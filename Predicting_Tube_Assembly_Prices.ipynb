{
 "cells": [
  {
   "cell_type": "markdown",
   "metadata": {},
   "source": [
    "# Machine Learning Nanodegree Capstone Project\n",
    "**Casey Whorton**\n",
    "\n",
    "**Python V3.0**"
   ]
  },
  {
   "cell_type": "markdown",
   "metadata": {},
   "source": [
    "# Import Packages & Custom Functions"
   ]
  },
  {
   "cell_type": "code",
   "execution_count": 1,
   "metadata": {
    "collapsed": true
   },
   "outputs": [],
   "source": [
    "import pandas as pd\n",
    "import numpy as np\n",
    "from IPython.display import Image,display\n",
    "import matplotlib.pyplot as plt\n",
    "import matplotlib.pyplot as plt; plt.rcdefaults()\n",
    "import matplotlib.pyplot as plt"
   ]
  },
  {
   "cell_type": "code",
   "execution_count": 2,
   "metadata": {},
   "outputs": [
    {
     "name": "stderr",
     "output_type": "stream",
     "text": [
      "C:\\Users\\Casey\\Anaconda3\\lib\\site-packages\\sklearn\\cross_validation.py:44: DeprecationWarning: This module was deprecated in version 0.18 in favor of the model_selection module into which all the refactored classes and functions are moved. Also note that the interface of the new CV iterators are different from that of this module. This module will be removed in 0.20.\n",
      "  \"This module will be removed in 0.20.\", DeprecationWarning)\n",
      "Using TensorFlow backend.\n"
     ]
    }
   ],
   "source": [
    "from sklearn.linear_model import LinearRegression\n",
    "from sklearn.ensemble import AdaBoostRegressor\n",
    "from sklearn.ensemble import GradientBoostingRegressor\n",
    "from sklearn.svm import LinearSVR\n",
    "from sklearn.svm import SVR\n",
    "from sklearn.metrics import mean_squared_error\n",
    "from sklearn.preprocessing import StandardScaler\n",
    "from sklearn.preprocessing import MinMaxScaler\n",
    "from sklearn.cross_validation import train_test_split\n",
    "from sklearn.ensemble import RandomForestRegressor\n",
    "from sklearn.model_selection import GridSearchCV\n",
    "from sklearn.tree import DecisionTreeRegressor\n",
    "from sklearn.neural_network import MLPRegressor\n",
    "from keras.models import Sequential\n",
    "from keras.layers import Dense, Activation, Dropout\n",
    "from keras.layers import Flatten\n",
    "from keras.wrappers.scikit_learn import KerasRegressor\n",
    "from sklearn.model_selection import cross_val_score\n",
    "from sklearn.model_selection import KFold\n",
    "from sklearn.decomposition import PCA\n",
    "from sklearn.decomposition import KernelPCA"
   ]
  },
  {
   "cell_type": "code",
   "execution_count": 3,
   "metadata": {
    "collapsed": true
   },
   "outputs": [],
   "source": [
    "#Define some functions to calculate the above metric (RMSLE) for scaled data and un-scaled data for price\n",
    "def rmsle(p_price,a_price):\n",
    "    term1=np.log(p_price+1)\n",
    "    term2=np.log(a_price+1)\n",
    "    term_sq=(term1-term2)**2\n",
    "    term_sum=term_sq.sum()\n",
    "    msle=term_sum*(1.0/len(p_price))\n",
    "    root_msle=msle**(0.5)\n",
    "    return(root_msle)\n",
    "\n",
    "def std_scaler_inverse(vector,mean_,std_):\n",
    "    vector_inv = vector*std_ + mean_\n",
    "    return(vector_inv)\n",
    "\n",
    "#Define a function here to find overlapping rows based on type of component\n",
    "\n",
    "def my_merger(bill_of_materials_df,comp_df,component_id_list):\n",
    "    list_of_counts = list()\n",
    "    for number in component_id_list:\n",
    "        h=pd.merge(pd.DataFrame(bill_of_materials_df[number]),pd.DataFrame(comp_df['component_id']),\n",
    "        left_on=number,right_on='component_id')\n",
    "        list_of_counts.append(h.count()[0])\n",
    "    return(list_of_counts)"
   ]
  },
  {
   "cell_type": "markdown",
   "metadata": {},
   "source": [
    "# Data Extraction\n",
    "\n",
    "Folder: C:\\Users\\Casey\\Desktop\\Capstone Project\\competition_data\n",
    "\n",
    "Tables:\n",
    "\n",
    "bill_of_materials.csv, \n",
    "comp_adaptor.csv, \n",
    "comp_boss.csv, \n",
    "comp_elbow.csv, \n",
    "comp_float.csv, \n",
    "comp_hfl.csv, \n",
    "comp_other.csv, \n",
    "comp_sleeve.csv, \n",
    "comp_straight.csv, \n",
    "comp_tee.csv, \n",
    "comp_threaded.csv, \n",
    "components.csv, \n",
    "specs.csv, \n",
    "test_set.csv, \n",
    "train_set.csv, \n",
    "tube.csv, \n",
    "tube_end_form.csv, \n",
    "type_component.csv, \n",
    "type_connection.csv, \n",
    "type_end_form.csv"
   ]
  },
  {
   "cell_type": "code",
   "execution_count": 4,
   "metadata": {
    "collapsed": true
   },
   "outputs": [],
   "source": [
    "bill_of_materials = pd.read_csv('C:\\\\Users\\\\Casey\\\\Desktop\\\\Capstone Project\\\\competition_data\\\\bill_of_materials.csv')\n",
    "comp_adaptor = pd.read_csv('C:\\\\Users\\\\Casey\\\\Desktop\\\\Capstone Project\\\\competition_data\\\\comp_adaptor.csv')\n",
    "comp_boss = pd.read_csv('C:\\\\Users\\\\Casey\\\\Desktop\\\\Capstone Project\\\\competition_data\\\\comp_boss.csv')\n",
    "comp_elbow = pd.read_csv('C:\\\\Users\\\\Casey\\\\Desktop\\\\Capstone Project\\\\competition_data\\\\comp_elbow.csv')\n",
    "comp_float = pd.read_csv('C:\\\\Users\\\\Casey\\\\Desktop\\\\Capstone Project\\\\competition_data\\\\comp_float.csv')\n",
    "comp_hfl = pd.read_csv('C:\\\\Users\\\\Casey\\\\Desktop\\\\Capstone Project\\\\competition_data\\\\comp_hfl.csv')\n",
    "comp_other = pd.read_csv('C:\\\\Users\\\\Casey\\\\Desktop\\\\Capstone Project\\\\competition_data\\\\comp_other.csv')\n",
    "comp_sleeve = pd.read_csv('C:\\\\Users\\\\Casey\\\\Desktop\\\\Capstone Project\\\\competition_data\\\\comp_sleeve.csv')\n",
    "comp_straight = pd.read_csv('C:\\\\Users\\\\Casey\\\\Desktop\\\\Capstone Project\\\\competition_data\\\\comp_straight.csv')\n",
    "comp_tee = pd.read_csv('C:\\\\Users\\\\Casey\\\\Desktop\\\\Capstone Project\\\\competition_data\\\\comp_tee.csv')\n",
    "comp_threaded = pd.read_csv('C:\\\\Users\\\\Casey\\\\Desktop\\\\Capstone Project\\\\competition_data\\\\comp_threaded.csv')\n",
    "components = pd.read_csv('C:\\\\Users\\\\Casey\\\\Desktop\\\\Capstone Project\\\\competition_data\\\\components.csv')\n",
    "specs = pd.read_csv('C:\\\\Users\\\\Casey\\\\Desktop\\\\Capstone Project\\\\competition_data\\\\specs.csv')\n",
    "test_set = pd.read_csv('C:\\\\Users\\\\Casey\\\\Desktop\\\\Capstone Project\\\\competition_data\\\\test_set.csv')\n",
    "train_set = pd.read_csv('C:\\\\Users\\\\Casey\\\\Desktop\\\\Capstone Project\\\\competition_data\\\\train_set.csv')\n",
    "tube = pd.read_csv('C:\\\\Users\\\\Casey\\\\Desktop\\\\Capstone Project\\\\competition_data\\\\tube.csv')\n",
    "tube_end_form = pd.read_csv('C:\\\\Users\\\\Casey\\\\Desktop\\\\Capstone Project\\\\competition_data\\\\tube_end_form.csv')\n",
    "type_component = pd.read_csv('C:\\\\Users\\\\Casey\\\\Desktop\\\\Capstone Project\\\\competition_data\\\\type_component.csv')\n",
    "type_connection = pd.read_csv('C:\\\\Users\\\\Casey\\\\Desktop\\\\Capstone Project\\\\competition_data\\\\type_connection.csv')\n",
    "type_end_form = pd.read_csv('C:\\\\Users\\\\Casey\\\\Desktop\\\\Capstone Project\\\\competition_data\\\\type_end_form.csv')"
   ]
  },
  {
   "cell_type": "markdown",
   "metadata": {},
   "source": [
    "# Data Table Descriptions\n",
    "** Table size and shape **"
   ]
  },
  {
   "cell_type": "code",
   "execution_count": 5,
   "metadata": {},
   "outputs": [
    {
     "data": {
      "text/html": [
       "<div>\n",
       "<style>\n",
       "    .dataframe thead tr:only-child th {\n",
       "        text-align: right;\n",
       "    }\n",
       "\n",
       "    .dataframe thead th {\n",
       "        text-align: left;\n",
       "    }\n",
       "\n",
       "    .dataframe tbody tr th {\n",
       "        vertical-align: top;\n",
       "    }\n",
       "</style>\n",
       "<table border=\"1\" class=\"dataframe\">\n",
       "  <thead>\n",
       "    <tr style=\"text-align: right;\">\n",
       "      <th></th>\n",
       "      <th>0</th>\n",
       "      <th>1</th>\n",
       "    </tr>\n",
       "  </thead>\n",
       "  <tbody>\n",
       "    <tr>\n",
       "      <th>bill_of_materials_dim</th>\n",
       "      <td>21198</td>\n",
       "      <td>17</td>\n",
       "    </tr>\n",
       "    <tr>\n",
       "      <th>comp_adaptor_dim</th>\n",
       "      <td>25</td>\n",
       "      <td>20</td>\n",
       "    </tr>\n",
       "    <tr>\n",
       "      <th>comp_boss_dim</th>\n",
       "      <td>147</td>\n",
       "      <td>15</td>\n",
       "    </tr>\n",
       "    <tr>\n",
       "      <th>comp_elbow_dim</th>\n",
       "      <td>178</td>\n",
       "      <td>16</td>\n",
       "    </tr>\n",
       "    <tr>\n",
       "      <th>comp_float_dim</th>\n",
       "      <td>16</td>\n",
       "      <td>7</td>\n",
       "    </tr>\n",
       "    <tr>\n",
       "      <th>comp_hfl_dim</th>\n",
       "      <td>6</td>\n",
       "      <td>9</td>\n",
       "    </tr>\n",
       "    <tr>\n",
       "      <th>comp_other_dim</th>\n",
       "      <td>1001</td>\n",
       "      <td>3</td>\n",
       "    </tr>\n",
       "    <tr>\n",
       "      <th>comp_sleeve_dim</th>\n",
       "      <td>50</td>\n",
       "      <td>10</td>\n",
       "    </tr>\n",
       "    <tr>\n",
       "      <th>comp_straight_dim</th>\n",
       "      <td>361</td>\n",
       "      <td>12</td>\n",
       "    </tr>\n",
       "    <tr>\n",
       "      <th>comp_tee_dim</th>\n",
       "      <td>4</td>\n",
       "      <td>14</td>\n",
       "    </tr>\n",
       "    <tr>\n",
       "      <th>comp_threaded_dim</th>\n",
       "      <td>194</td>\n",
       "      <td>32</td>\n",
       "    </tr>\n",
       "    <tr>\n",
       "      <th>components_dim</th>\n",
       "      <td>2048</td>\n",
       "      <td>3</td>\n",
       "    </tr>\n",
       "    <tr>\n",
       "      <th>specs_dim</th>\n",
       "      <td>21198</td>\n",
       "      <td>11</td>\n",
       "    </tr>\n",
       "    <tr>\n",
       "      <th>test_set_dim</th>\n",
       "      <td>30235</td>\n",
       "      <td>8</td>\n",
       "    </tr>\n",
       "    <tr>\n",
       "      <th>train_dim</th>\n",
       "      <td>30213</td>\n",
       "      <td>8</td>\n",
       "    </tr>\n",
       "    <tr>\n",
       "      <th>tube_dim</th>\n",
       "      <td>21198</td>\n",
       "      <td>16</td>\n",
       "    </tr>\n",
       "    <tr>\n",
       "      <th>tube_end_form_dim</th>\n",
       "      <td>27</td>\n",
       "      <td>2</td>\n",
       "    </tr>\n",
       "    <tr>\n",
       "      <th>type_comp_dim</th>\n",
       "      <td>29</td>\n",
       "      <td>2</td>\n",
       "    </tr>\n",
       "    <tr>\n",
       "      <th>type_connection_dim</th>\n",
       "      <td>14</td>\n",
       "      <td>2</td>\n",
       "    </tr>\n",
       "    <tr>\n",
       "      <th>type_end_form_dim</th>\n",
       "      <td>8</td>\n",
       "      <td>2</td>\n",
       "    </tr>\n",
       "  </tbody>\n",
       "</table>\n",
       "</div>"
      ],
      "text/plain": [
       "                           0   1\n",
       "bill_of_materials_dim  21198  17\n",
       "comp_adaptor_dim          25  20\n",
       "comp_boss_dim            147  15\n",
       "comp_elbow_dim           178  16\n",
       "comp_float_dim            16   7\n",
       "comp_hfl_dim               6   9\n",
       "comp_other_dim          1001   3\n",
       "comp_sleeve_dim           50  10\n",
       "comp_straight_dim        361  12\n",
       "comp_tee_dim               4  14\n",
       "comp_threaded_dim        194  32\n",
       "components_dim          2048   3\n",
       "specs_dim              21198  11\n",
       "test_set_dim           30235   8\n",
       "train_dim              30213   8\n",
       "tube_dim               21198  16\n",
       "tube_end_form_dim         27   2\n",
       "type_comp_dim             29   2\n",
       "type_connection_dim       14   2\n",
       "type_end_form_dim          8   2"
      ]
     },
     "execution_count": 5,
     "metadata": {},
     "output_type": "execute_result"
    }
   ],
   "source": [
    "comp_threaded_dim=(comp_threaded.shape)\n",
    "bill_of_materials_dim=bill_of_materials.shape\n",
    "comp_adaptor_dim=comp_adaptor.shape\n",
    "comp_boss_dim=comp_boss.shape\n",
    "components_dim=components.shape\n",
    "comp_elbow_dim=comp_elbow.shape\n",
    "comp_float_dim=comp_float.shape\n",
    "comp_hfl_dim=comp_hfl.shape\n",
    "train_dim=train_set.shape\n",
    "comp_other_dim=comp_other.shape\n",
    "type_connection_dim=type_connection.shape\n",
    "specs_dim=specs.shape\n",
    "comp_sleeve_dim=comp_sleeve.shape\n",
    "type_end_form_dim=type_end_form.shape\n",
    "test_set_dim=test_set.shape\n",
    "comp_tee_dim=comp_tee.shape\n",
    "type_comp_dim=type_component.shape\n",
    "comp_straight_dim=comp_straight.shape\n",
    "tube_dim=tube.shape\n",
    "tube_end_form_dim=tube_end_form.shape\n",
    "\n",
    "tablesizes = [\n",
    "    ('comp_threaded_dim',comp_threaded_dim),('bill_of_materials_dim',bill_of_materials_dim),\n",
    "    ('comp_adaptor_dim',comp_adaptor_dim),('comp_boss_dim',comp_boss_dim),\n",
    "    ('components_dim',components_dim),('comp_elbow_dim',comp_elbow_dim),\n",
    "    ('comp_float_dim',comp_float_dim),('comp_hfl_dim',comp_hfl_dim),\n",
    "    ('train_dim',train_dim),('comp_other_dim',comp_other_dim),\n",
    "    ('type_connection_dim',type_connection_dim),('specs_dim',specs_dim),\n",
    "    ('comp_sleeve_dim',comp_sleeve_dim),('type_end_form_dim',type_end_form_dim),\n",
    "    ('test_set_dim',test_set_dim),('comp_tee_dim',comp_tee_dim),\n",
    "    ('type_comp_dim',type_comp_dim),('comp_straight_dim',comp_straight_dim),\n",
    "    ('tube_dim',tube_dim),('tube_end_form_dim',tube_end_form_dim)\n",
    "             ]\n",
    "pd.DataFrame(dict(tablesizes)).transpose()"
   ]
  },
  {
   "cell_type": "markdown",
   "metadata": {},
   "source": [
    "** Data Table Headers and Column Names   **"
   ]
  },
  {
   "cell_type": "code",
   "execution_count": 6,
   "metadata": {
    "collapsed": true
   },
   "outputs": [],
   "source": [
    "#comp_float.head(2)\n",
    "#comp_other.head(2)\n",
    "#comp_straight.head(2)\n",
    "#comp_tee.head(2)\n",
    "#comp_elbow.head(2)\n",
    "#comp_sleeve.head(2)\n",
    "#comp_threaded.head(2)\n",
    "#comp_hfl.head(2)\n",
    "#comp_boss.head(2)\n",
    "#bill_of_materials.head(2)\n",
    "#components.head(2)\n",
    "#tube.head(2)\n",
    "#comp_adaptor.head(2)\n",
    "#tube_end_form.head(2)\n",
    "#type_component.head(2)\n",
    "#type_connection.head(2)\n",
    "#type_end_form.head(2)\n",
    "#train_set.head(2)\n",
    "#test_set.head(2)"
   ]
  },
  {
   "cell_type": "markdown",
   "metadata": {},
   "source": [
    "# Data Table Relationships"
   ]
  },
  {
   "cell_type": "code",
   "execution_count": 7,
   "metadata": {},
   "outputs": [
    {
     "data": {
      "image/jpeg": "[encoded data removed]",
      "text/plain": [
       "<IPython.core.display.Image object>"
      ]
     },
     "execution_count": 7,
     "metadata": {},
     "output_type": "execute_result"
    }
   ],
   "source": [
    "Image(filename='C:\\\\Users\\\\Casey\\\\Desktop\\\\Capstone Project\\\\Schema.jpg') "
   ]
  },
  {
   "cell_type": "markdown",
   "metadata": {},
   "source": [
    "# Exploratory Data Analysis\n",
    "\n",
    "** Continuous Feature Data Visualizations **"
   ]
  },
  {
   "cell_type": "code",
   "execution_count": 8,
   "metadata": {},
   "outputs": [
    {
     "data": {
      "image/png": "[encoded data removed]",
      "text/plain": [
       "<matplotlib.figure.Figure at 0x133bff757b8>"
      ]
     },
     "metadata": {},
     "output_type": "display_data"
    }
   ],
   "source": [
    "plt.hist(train_set['cost'],bins=1000)\n",
    "plt.title('Histogram of Price (cost)')\n",
    "plt.show()"
   ]
  },
  {
   "cell_type": "code",
   "execution_count": 9,
   "metadata": {},
   "outputs": [
    {
     "data": {
      "image/png": "[encoded data removed]",
      "text/plain": [
       "<matplotlib.figure.Figure at 0x133c0706fd0>"
      ]
     },
     "metadata": {},
     "output_type": "display_data"
    }
   ],
   "source": [
    "plt.hist(train_set['cost'][train_set['cost']<21],bins=1000)\n",
    "plt.title('Histogram of Price (cost) Less than $21.00')\n",
    "plt.show()"
   ]
  },
  {
   "cell_type": "code",
   "execution_count": 10,
   "metadata": {},
   "outputs": [
    {
     "data": {
      "image/png": "[encoded data removed]",
      "text/plain": [
       "<matplotlib.figure.Figure at 0x133c090c390>"
      ]
     },
     "metadata": {},
     "output_type": "display_data"
    }
   ],
   "source": [
    "plt.hist(train_set['quantity'],bins=1000)\n",
    "plt.title('Histogram of quantity')\n",
    "plt.show()"
   ]
  },
  {
   "cell_type": "code",
   "execution_count": 11,
   "metadata": {},
   "outputs": [
    {
     "data": {
      "image/png": "[encoded data removed]",
      "text/plain": [
       "<matplotlib.figure.Figure at 0x133c32d7198>"
      ]
     },
     "metadata": {},
     "output_type": "display_data"
    }
   ],
   "source": [
    "plt.hist(train_set['quantity'][train_set.quantity<=40],bins=1000)\n",
    "plt.title('Histogram of quantity Less than 40')\n",
    "plt.show()"
   ]
  },
  {
   "cell_type": "code",
   "execution_count": 12,
   "metadata": {},
   "outputs": [
    {
     "data": {
      "image/png": "[encoded data removed]",
      "text/plain": [
       "<matplotlib.figure.Figure at 0x133c332ac18>"
      ]
     },
     "metadata": {},
     "output_type": "display_data"
    }
   ],
   "source": [
    "plt.scatter(train_set['cost'],train_set['quantity'],c='blue')\n",
    "plt.title('Quantity Verse Price (cost)')\n",
    "plt.show()"
   ]
  },
  {
   "cell_type": "code",
   "execution_count": 13,
   "metadata": {
    "collapsed": true
   },
   "outputs": [],
   "source": [
    "#bins = [0,500,1000,5000,10000,15000]\n",
    "#annual_usage_counts=pd.cut(train_set['annual_usage'],bins)\n",
    "#annual_usage_counts.value_counts()"
   ]
  },
  {
   "cell_type": "code",
   "execution_count": 14,
   "metadata": {
    "collapsed": true
   },
   "outputs": [],
   "source": [
    "#bins = [0,100,200,300,400,500]\n",
    "#min_order_counts=pd.cut(train_set['min_order_quantity'],bins)\n",
    "#in_order_counts.value_counts()\n",
    "\n",
    "#Even though the maximum values looked suspicious in the 5 number summaries, a closer look reveals that some values might be outliers but do not seem erroneous."
   ]
  },
  {
   "cell_type": "code",
   "execution_count": 15,
   "metadata": {
    "collapsed": true
   },
   "outputs": [],
   "source": [
    "## comp_adaptor\n",
    "#comp_adaptor.describe()"
   ]
  },
  {
   "cell_type": "code",
   "execution_count": 16,
   "metadata": {
    "collapsed": true
   },
   "outputs": [],
   "source": [
    "# comp_adaptor\n",
    "#comp_adaptor['thread_size_2'].value_counts()"
   ]
  },
  {
   "cell_type": "code",
   "execution_count": 17,
   "metadata": {
    "collapsed": true
   },
   "outputs": [],
   "source": [
    "# comp_adaptor\n",
    "#comp_adaptor['thread_pitch_2'].value_counts()\n",
    "#Thread size number 2 and thread pitch number 2 each have a single erroneous value of 9999, to be replaced with NaN"
   ]
  },
  {
   "cell_type": "code",
   "execution_count": 18,
   "metadata": {
    "collapsed": true
   },
   "outputs": [],
   "source": [
    "# tube table\n",
    "#tube.describe()"
   ]
  },
  {
   "cell_type": "code",
   "execution_count": 19,
   "metadata": {
    "collapsed": true
   },
   "outputs": [],
   "source": [
    "# tube table\n",
    "#tube['num_boss'].value_counts()"
   ]
  },
  {
   "cell_type": "code",
   "execution_count": 20,
   "metadata": {
    "collapsed": true
   },
   "outputs": [],
   "source": [
    "# tube table\n",
    "#tube['num_bracket'].value_counts()"
   ]
  },
  {
   "cell_type": "code",
   "execution_count": 21,
   "metadata": {
    "collapsed": true
   },
   "outputs": [],
   "source": [
    "# tube table\n",
    "#tube['other'].value_counts()"
   ]
  },
  {
   "cell_type": "code",
   "execution_count": 22,
   "metadata": {
    "collapsed": true
   },
   "outputs": [],
   "source": [
    "# bill_of_materials\n",
    "#bill_of_materials.describe()\n",
    "#bill_of_materials.head(10)"
   ]
  },
  {
   "cell_type": "code",
   "execution_count": 23,
   "metadata": {
    "collapsed": true
   },
   "outputs": [],
   "source": [
    "# comp_boss\n",
    "#comp_boss.describe()\n",
    "#bins = [0,25,50,75,100,1000,9999]\n",
    "#height_counts=pd.cut(comp_boss['height_over_tube'],bins)\n",
    "#height_counts.value_counts()"
   ]
  },
  {
   "cell_type": "code",
   "execution_count": 24,
   "metadata": {
    "collapsed": true
   },
   "outputs": [],
   "source": [
    "#comp_boss.describe()\n",
    "#Looks to me that the 999 value is erroneous, but shouldn't be mean or median imputed.  This is a feature of a particular component, but still continous.  Change to NaN or Null."
   ]
  },
  {
   "cell_type": "code",
   "execution_count": 25,
   "metadata": {
    "collapsed": true
   },
   "outputs": [],
   "source": [
    "# comp_hfl\n",
    "#comp_hfl.describe()"
   ]
  },
  {
   "cell_type": "code",
   "execution_count": 26,
   "metadata": {
    "collapsed": true
   },
   "outputs": [],
   "source": [
    "#comp_sleeve\n",
    "#comp_sleeve.describe()\n",
    "#Change the 9999 values to NaN"
   ]
  },
  {
   "cell_type": "code",
   "execution_count": 27,
   "metadata": {
    "collapsed": true
   },
   "outputs": [],
   "source": [
    "# comp_elbow\n",
    "#comp_elbow.describe()\n",
    "#bins = [0,25,50,75,100,9999]\n",
    "#elbow_counts=pd.cut(comp_elbow['drop_length'],bins)\n",
    "#elbow_counts.value_counts()\n",
    "#Change the 9999 values to NaN."
   ]
  },
  {
   "cell_type": "code",
   "execution_count": 28,
   "metadata": {
    "collapsed": true
   },
   "outputs": [],
   "source": [
    "# comp_tee\n",
    "#comp_tee.describe()"
   ]
  },
  {
   "cell_type": "code",
   "execution_count": 29,
   "metadata": {
    "collapsed": true
   },
   "outputs": [],
   "source": [
    "# comp_straight\n",
    "#comp_straight.describe()"
   ]
  },
  {
   "cell_type": "code",
   "execution_count": 30,
   "metadata": {
    "collapsed": true
   },
   "outputs": [],
   "source": [
    "# comp_other\n",
    "#comp_other.describe()"
   ]
  },
  {
   "cell_type": "code",
   "execution_count": 31,
   "metadata": {
    "collapsed": true
   },
   "outputs": [],
   "source": [
    "# comp_float\n",
    "#comp_float.describe()"
   ]
  },
  {
   "cell_type": "code",
   "execution_count": 32,
   "metadata": {
    "collapsed": true
   },
   "outputs": [],
   "source": [
    "# comp_threaded\n",
    "#comp_threaded.describe()\n",
    "#bins = [0,25,50,100,9999]\n",
    "#threaded_counts=pd.cut(comp_threaded['nominal_size_3'],bins)\n",
    "#threaded_counts.value_counts()\n",
    "#Nominal size 4 has no values contained in it.  Nominal size 3 and size 2 has a maximum value of 9999."
   ]
  },
  {
   "cell_type": "code",
   "execution_count": 33,
   "metadata": {
    "collapsed": true
   },
   "outputs": [],
   "source": [
    "# comp_threaded\n",
    "#bins = [0,25,50,100,9999]\n",
    "#threaded_counts=pd.cut(comp_threaded['nominal_size_2'],bins)\n",
    "#threaded_counts.value_counts()\n",
    "#Switch the 9999 value to NaN"
   ]
  },
  {
   "cell_type": "markdown",
   "metadata": {},
   "source": [
    "# Exploratory Data Analysis Summary\n",
    "\n",
    "There are many tables, many features in each table, and a somewhat complicated relationship among the tables.  The training dataset can be connected to the remaining features contained in other tables through key relationships between tables.  There are features that simply describe features of tube components with labels.  Others have have a continuous scale but the frequency is so small that they can be changed to indicator variables in another table.  A few columns had erroneous values that are likely there as a placeholder when no number is available or unecessary.  They are all contained in tables that describe attritubes of tubes using tables, so I'm going to impute those with NaN/Nulls.  "
   ]
  },
  {
   "cell_type": "markdown",
   "metadata": {},
   "source": [
    "# Modeling Price With 'train_set'\n",
    "** 'train_set' Preprocessing **"
   ]
  },
  {
   "cell_type": "code",
   "execution_count": 5,
   "metadata": {
    "collapsed": true
   },
   "outputs": [],
   "source": [
    "std_scaler = StandardScaler()\n",
    "train_set_num = train_set.drop(['bracket_pricing','tube_assembly_id','supplier','quote_date'],axis=1)\n",
    "bracket_pricing_ind = pd.get_dummies(train_set.bracket_pricing,drop_first=True)\n",
    "supplier_ind = pd.get_dummies(train_set.supplier)\n",
    "df=pd.DataFrame(std_scaler.fit_transform(train_set_num))\n",
    "df.columns = train_set_num.columns + '_std_scaled'\n",
    "train = pd.concat([df.reset_index(drop=True),bracket_pricing_ind,supplier_ind],axis=1)"
   ]
  },
  {
   "cell_type": "code",
   "execution_count": 6,
   "metadata": {},
   "outputs": [
    {
     "name": "stdout",
     "output_type": "stream",
     "text": [
      "Training and testing split was successful.\n"
     ]
    }
   ],
   "source": [
    "# Split training dataset into 'train' and 'test'\n",
    "\n",
    "price = train.cost_std_scaled\n",
    "features = train.drop('cost_std_scaled',axis=1)\n",
    "\n",
    "X_train, X_test, y_train, y_test = train_test_split(features, price, test_size=0.20, random_state=42)\n",
    "\n",
    "print(\"Training and testing split was successful.\")"
   ]
  },
  {
   "cell_type": "markdown",
   "metadata": {},
   "source": [
    "** Modeling Price Using 'train_set' **"
   ]
  },
  {
   "cell_type": "code",
   "execution_count": 36,
   "metadata": {
    "collapsed": true
   },
   "outputs": [],
   "source": [
    "#All zeros\n",
    "all_zeros_mse = mean_squared_error(np.zeros(6043),y_test)\n",
    "\n",
    "#Linear Regression\n",
    "\n",
    "lin_reg = LinearRegression()\n",
    "lin_reg.fit(X_train,y_train)\n",
    "linear_regression_mse_train=mean_squared_error(y_train,lin_reg.predict(X_train))\n",
    "linear_regression_mse_valid=mean_squared_error(y_test,lin_reg.predict(X_test))\n",
    "\n",
    "#Support Vector Regressor\n",
    "svm_reg = SVR()\n",
    "svm_reg.fit(X_train,y_train)\n",
    "svm_mse_train=mean_squared_error(y_train,svm_reg.predict(X_train))\n",
    "svm_mse_valid=mean_squared_error(y_test,svm_reg.predict(X_test))\n",
    "\n",
    "#Random Forest Regressor\n",
    "random_forest_model = RandomForestRegressor()\n",
    "random_forest_model.fit(X_train,y_train)\n",
    "random_forest_model_mse_train = mean_squared_error(y_train,random_forest_model.predict(X_train))\n",
    "random_forest_model_mse_valid = mean_squared_error(y_test,random_forest_model.predict(X_test))\n",
    "\n",
    "#Decision Tree Regressor\n",
    "dec_tree_model = DecisionTreeRegressor()\n",
    "\n",
    "param_grid = [\n",
    " {'min_samples_split': [2,5,10], 'max_depth': [2,4,5,8],'min_samples_leaf': [1,2,4,10]}\n",
    "]\n",
    "\n",
    "grid_search = GridSearchCV(dec_tree_model, param_grid, cv=5, scoring='neg_mean_squared_error')\n",
    "\n",
    "grid_search.fit(X_train,y_train)\n",
    "\n",
    "dec_tree_model = grid_search.best_estimator_\n",
    "dec_tree_model_mse_train = mean_squared_error(y_train,dec_tree_model.predict(X_train))\n",
    "dec_tree_model_mse_valid = mean_squared_error(y_test,dec_tree_model.predict(X_test))\n",
    "\n",
    "#Neural Network Regressor (Using sklearn), One layer of 100 hidden nodes\n",
    "NN_sklearn = MLPRegressor(solver='sgd',hidden_layer_sizes=(100))\n",
    "NN_sklearn.fit(X_train,y_train)\n",
    "NN_sklearn_mse_train = mean_squared_error(y_train,NN_sklearn.predict(X_train))\n",
    "NN_sklearn_mse_valid = mean_squared_error(y_test,NN_sklearn.predict(X_test))"
   ]
  },
  {
   "cell_type": "code",
   "execution_count": 37,
   "metadata": {},
   "outputs": [
    {
     "name": "stdout",
     "output_type": "stream",
     "text": [
      "_________________________________________________________________\n",
      "Layer (type)                 Output Shape              Param #   \n",
      "=================================================================\n",
      "dense_1 (Dense)              (None, 100)               6200      \n",
      "_________________________________________________________________\n",
      "dropout_1 (Dropout)          (None, 100)               0         \n",
      "_________________________________________________________________\n",
      "dense_2 (Dense)              (None, 75)                7575      \n",
      "_________________________________________________________________\n",
      "dropout_2 (Dropout)          (None, 75)                0         \n",
      "_________________________________________________________________\n",
      "dense_3 (Dense)              (None, 50)                3800      \n",
      "_________________________________________________________________\n",
      "dense_4 (Dense)              (None, 20)                1020      \n",
      "_________________________________________________________________\n",
      "dense_5 (Dense)              (None, 1)                 21        \n",
      "=================================================================\n",
      "Total params: 18,616\n",
      "Trainable params: 18,616\n",
      "Non-trainable params: 0\n",
      "_________________________________________________________________\n"
     ]
    }
   ],
   "source": [
    "#Neural Network Regressor (Using Keras)\n",
    "\n",
    "model=Sequential()\n",
    "model.add(Dense(100,activation='relu',input_dim=61))\n",
    "model.add(Dropout(0.10))\n",
    "model.add(Dense(75,activation='relu'))\n",
    "model.add(Dropout(0.10))\n",
    "model.add(Dense(50,activation='relu'))\n",
    "model.add(Dense(20,activation='relu'))\n",
    "model.add(Dense(1))\n",
    "model.summary()\n",
    "model.compile(loss='mean_squared_error', optimizer='rmsprop')"
   ]
  },
  {
   "cell_type": "code",
   "execution_count": 38,
   "metadata": {},
   "outputs": [
    {
     "name": "stdout",
     "output_type": "stream",
     "text": [
      "Epoch 1/10\n",
      "24170/24170 [==============================] - 4s - loss: 0.8860     \n",
      "Epoch 2/10\n",
      "24170/24170 [==============================] - 3s - loss: 0.8547     \n",
      "Epoch 3/10\n",
      "24170/24170 [==============================] - 3s - loss: 0.8356     \n",
      "Epoch 4/10\n",
      "24170/24170 [==============================] - 3s - loss: 0.8317     \n",
      "Epoch 5/10\n",
      "24170/24170 [==============================] - 3s - loss: 0.8225     \n",
      "Epoch 6/10\n",
      "24170/24170 [==============================] - 3s - loss: 0.8091     \n",
      "Epoch 7/10\n",
      "24170/24170 [==============================] - 3s - loss: 0.8116     \n",
      "Epoch 8/10\n",
      "24170/24170 [==============================] - 3s - loss: 0.7933     \n",
      "Epoch 9/10\n",
      "24170/24170 [==============================] - 3s - loss: 0.7896     \n",
      "Epoch 10/10\n",
      "24170/24170 [==============================] - 3s - loss: 0.7923     \n"
     ]
    }
   ],
   "source": [
    "X = X_train.as_matrix()\n",
    "y = y_train.as_matrix()\n",
    "model.fit(X,y,epochs=10,batch_size=10)\n",
    "NN_keras_mse_train = mean_squared_error(y_train.as_matrix(),model.predict(X_train.as_matrix()))\n",
    "NN_keras_mse_valid = mean_squared_error(y_test.as_matrix(),model.predict(X_test.as_matrix()))"
   ]
  },
  {
   "cell_type": "code",
   "execution_count": 39,
   "metadata": {},
   "outputs": [
    {
     "data": {
      "text/plain": [
       "{'All Zeros': 0.81801792970401255,\n",
       " 'Decision Tree': 0.55148658297535413,\n",
       " 'Linear Regression': 0.90837288822169038,\n",
       " 'Neural Network Keras': 0.80164237157015883,\n",
       " 'Neural Network sklearn': 0.79155984021165926,\n",
       " 'Random Forest': 0.42699315179403496}"
      ]
     },
     "execution_count": 39,
     "metadata": {},
     "output_type": "execute_result"
    }
   ],
   "source": [
    "train_mse_dict = dict({'All Zeros': (all_zeros_mse),\n",
    "               'Neural Network Keras':NN_keras_mse_train,\n",
    "               'Neural Network sklearn':NN_sklearn_mse_train,\n",
    "               'Decision Tree':dec_tree_model_mse_train,\n",
    "               'Random Forest':random_forest_model_mse_train,\n",
    "               'Linear Regression':linear_regression_mse_train\n",
    "               })\n",
    "train_mse_dict"
   ]
  },
  {
   "cell_type": "code",
   "execution_count": 40,
   "metadata": {},
   "outputs": [
    {
     "data": {
      "text/plain": [
       "{'All Zeros': 0.81801792970401255,\n",
       " 'Decision Tree': 0.42382860812672968,\n",
       " 'Linear Regression': 2.5616117774182367e+19,\n",
       " 'Neural Network Keras': 0.5948517808206979,\n",
       " 'Neural Network sklearn': 0.58688461476037879,\n",
       " 'Random Forest': 0.42190440884691133}"
      ]
     },
     "execution_count": 40,
     "metadata": {},
     "output_type": "execute_result"
    }
   ],
   "source": [
    "valid_mse_dict = dict({'All Zeros': (all_zeros_mse),\n",
    "               'Neural Network Keras':NN_keras_mse_valid,\n",
    "               'Neural Network sklearn':NN_sklearn_mse_valid,\n",
    "               'Decision Tree':dec_tree_model_mse_valid,\n",
    "               'Random Forest':random_forest_model_mse_valid,\n",
    "               'Linear Regression':linear_regression_mse_valid\n",
    "               })\n",
    "valid_mse_dict"
   ]
  },
  {
   "cell_type": "markdown",
   "metadata": {},
   "source": [
    "The random forest regressor model performed best on the test data set using the MSE."
   ]
  },
  {
   "cell_type": "code",
   "execution_count": 41,
   "metadata": {},
   "outputs": [
    {
     "data": {
      "image/jpeg": "[encoded data removed]",
      "text/plain": [
       "<IPython.core.display.Image object>"
      ]
     },
     "execution_count": 41,
     "metadata": {},
     "output_type": "execute_result"
    }
   ],
   "source": [
    "Image(filename='C:\\\\Users\\\\Casey\\\\Desktop\\\\Capstone Project\\\\RMSLE.jpg') "
   ]
  },
  {
   "cell_type": "code",
   "execution_count": 42,
   "metadata": {},
   "outputs": [
    {
     "data": {
      "text/plain": [
       "{'All Zeros': 2.3525028280757914, 'Random Forest': 0.4588216208886573}"
      ]
     },
     "execution_count": 42,
     "metadata": {},
     "output_type": "execute_result"
    }
   ],
   "source": [
    "mean_ = train_set.cost.mean()\n",
    "std_ = train_set.cost.std()\n",
    "\n",
    "all_zeros_rmsle=rmsle(np.zeros(6043),\n",
    "      std_scaler_inverse(y_test,mean_,std_)\n",
    "     )\n",
    "\n",
    "random_forest_rmsle=rmsle(\n",
    "    std_scaler_inverse(random_forest_model.predict(X_test),mean_,std_),\n",
    "    std_scaler_inverse(y_test,mean_,std_)\n",
    ")\n",
    "\n",
    "rmsle_dict = dict({'All Zeros':all_zeros_rmsle,'Random Forest':random_forest_rmsle})\n",
    "rmsle_dict"
   ]
  },
  {
   "cell_type": "markdown",
   "metadata": {},
   "source": [
    "# 'test_set' Scoring For Kaggle"
   ]
  },
  {
   "cell_type": "code",
   "execution_count": 43,
   "metadata": {
    "collapsed": true
   },
   "outputs": [],
   "source": [
    "test_set_num = test_set.drop(['bracket_pricing','tube_assembly_id','supplier','quote_date'],axis=1)\n",
    "bracket_pricing_ind = pd.get_dummies(test_set.bracket_pricing,drop_first=True)\n",
    "supplier_ind = pd.get_dummies(test_set.supplier)\n",
    "df=pd.DataFrame(std_scaler.fit_transform(test_set_num))\n",
    "df.columns = test_set_num.columns + '_std_scaled'\n",
    "test = pd.concat([df.reset_index(drop=True),bracket_pricing_ind,supplier_ind],axis=1)"
   ]
  },
  {
   "cell_type": "code",
   "execution_count": 44,
   "metadata": {
    "collapsed": true
   },
   "outputs": [],
   "source": [
    "# For output to put onto Kaggle website for scoring:\n",
    "\n",
    "# predictions=std_scaler_inverse(random_forest_model.predict(test),mean_,std_)\n",
    "#my_df = pd.DataFrame(predictions)\n",
    "#my_df.to_csv('whorton_predictions.csv', index=False, header=False)"
   ]
  },
  {
   "cell_type": "markdown",
   "metadata": {},
   "source": [
    "# 'train_set' Modeling Summary\n",
    "\n",
    "Using only features given along with the price target variable we are already able to beat the 'all-zeros' benchmark model with nearly all algorithms examined so far.  Tuning of hyperparameters can result in a better fit of price.\n",
    "\n",
    "With a score 0f 0.91, the random forest model is obviously better than predicting all zeros for the price of a tube assembly.  This model does not incorporate any data on the components, and could be improved by adding more relevant features or fine-tuning the models a bit more."
   ]
  },
  {
   "cell_type": "markdown",
   "metadata": {},
   "source": [
    "# Incorporating Tube Assembly and Specifications In Modeling Price\n",
    "\n",
    "** Data Preprocessing **\n",
    "\n",
    "** specs table **\n",
    "\n",
    "The 'specs' table has the specifications of each tube assembly.  There could be up to 10 specifications for a single tube assembly.  This table can be converted to a indicator variable table with the **tube_assembly_id** as the key."
   ]
  },
  {
   "cell_type": "code",
   "execution_count": 5,
   "metadata": {
    "collapsed": true
   },
   "outputs": [],
   "source": [
    "specs_pre=pd.concat(\n",
    "    [specs['tube_assembly_id'],\n",
    "           pd.get_dummies(specs[['spec1','spec2','spec3','spec4','spec5','spec6','spec7','spec8']], drop_first=True,)],\n",
    "          axis=1\n",
    ")"
   ]
  },
  {
   "cell_type": "markdown",
   "metadata": {},
   "source": [
    "** tube table **\n",
    "\n",
    "The 'tube' table with info on each tube assembly has several continuous inputs and 'end' specs which will be converted to indicator variables.  The **tube_assembly_id** will be the key."
   ]
  },
  {
   "cell_type": "code",
   "execution_count": 6,
   "metadata": {
    "collapsed": true
   },
   "outputs": [],
   "source": [
    "column_names = ['end_a_1x','end_a_2x','end_x_1x','end_x_2x','end_a','end_x']\n",
    "tube1 = pd.DataFrame(tube.drop(column_names,axis=1))\n",
    "tube1 = pd.DataFrame(tube1.drop('material_id',axis=1))\n",
    "tube2 = pd.get_dummies(tube[column_names],drop_first=True)\n",
    "tube_pre=pd.concat([tube1.reset_index(drop=True),tube2],axis=1)"
   ]
  },
  {
   "cell_type": "markdown",
   "metadata": {},
   "source": [
    "** Table Mergers **\n",
    "\n",
    "Merge 1: Left Outer Join between 'train' and the 'specs_pre' table based on the tube_assembly_id\n",
    "Merge 2: Left Outer Join between 'Merge 1' and the 'tube_pre' table based on the tube_assembly_id\n",
    "\n",
    "Repeat Merge 1 and Merge 2 with the 'test' table"
   ]
  },
  {
   "cell_type": "code",
   "execution_count": 47,
   "metadata": {
    "collapsed": true
   },
   "outputs": [],
   "source": [
    "std_scaler = StandardScaler()\n",
    "train_set_num = train_set.drop(['bracket_pricing','tube_assembly_id','supplier','quote_date'],axis=1)\n",
    "bracket_pricing_ind = pd.get_dummies(train_set.bracket_pricing,drop_first=True)\n",
    "supplier_ind = pd.get_dummies(train_set.supplier)\n",
    "df=pd.DataFrame(std_scaler.fit_transform(train_set_num))\n",
    "df.columns = train_set_num.columns + '_std_scaled'\n",
    "train = pd.concat([df.reset_index(drop=True),bracket_pricing_ind,supplier_ind],axis=1)\n",
    "tube_assembly_df = pd.DataFrame(train_set.tube_assembly_id)\n",
    "train=pd.concat([tube_assembly_df,train],axis=1)\n",
    "df=pd.merge(train,tube_pre,on='tube_assembly_id')\n",
    "train = pd.merge(df,specs_pre).drop('tube_assembly_id',axis=1)"
   ]
  },
  {
   "cell_type": "code",
   "execution_count": 48,
   "metadata": {},
   "outputs": [
    {
     "name": "stdout",
     "output_type": "stream",
     "text": [
      "Training and testing split was successful.\n"
     ]
    }
   ],
   "source": [
    "# Split training dataset into 'train' and 'test'\n",
    "\n",
    "price = train.cost_std_scaled\n",
    "features = train.drop('cost_std_scaled',axis=1)\n",
    "\n",
    "X_train, X_test, y_train, y_test = train_test_split(features, price, test_size=0.20, random_state=42)\n",
    "\n",
    "print(\"Training and testing split was successful.\")"
   ]
  },
  {
   "cell_type": "code",
   "execution_count": 49,
   "metadata": {
    "collapsed": true
   },
   "outputs": [],
   "source": [
    "#All zeros\n",
    "all_zeros_mse = mean_squared_error(np.zeros(6043),y_test)\n",
    "\n",
    "#Linear Regression\n",
    "\n",
    "lin_reg = LinearRegression()\n",
    "lin_reg.fit(X_train,y_train)\n",
    "linear_regression_mse_train=mean_squared_error(y_train,lin_reg.predict(X_train))\n",
    "linear_regression_mse_valid=mean_squared_error(y_test,lin_reg.predict(X_test))\n",
    "\n",
    "#Support Vector Regressor\n",
    "svm_reg = SVR()\n",
    "svm_reg.fit(X_train,y_train)\n",
    "svm_mse_train=mean_squared_error(y_train,svm_reg.predict(X_train))\n",
    "svm_mse_valid=mean_squared_error(y_test,svm_reg.predict(X_test))\n",
    "\n",
    "#Random Forest Regressor\n",
    "random_forest_model = RandomForestRegressor()\n",
    "random_forest_model.fit(X_train,y_train)\n",
    "random_forest_model_mse_train = mean_squared_error(y_train,random_forest_model.predict(X_train))\n",
    "random_forest_model_mse_valid = mean_squared_error(y_test,random_forest_model.predict(X_test))\n",
    "\n",
    "#Decision Tree Regressor\n",
    "dec_tree_model = DecisionTreeRegressor()\n",
    "\n",
    "param_grid = [\n",
    " {'min_samples_split': [2,5,10], 'max_depth': [2,4,5,8],'min_samples_leaf': [1,2,4,10]}\n",
    "]\n",
    "\n",
    "grid_search = GridSearchCV(dec_tree_model, param_grid, cv=5, scoring='neg_mean_squared_error')\n",
    "\n",
    "grid_search.fit(X_train,y_train)\n",
    "\n",
    "dec_tree_model = grid_search.best_estimator_\n",
    "dec_tree_model_mse_train = mean_squared_error(y_train,dec_tree_model.predict(X_train))\n",
    "dec_tree_model_mse_valid = mean_squared_error(y_test,dec_tree_model.predict(X_test))\n",
    "\n",
    "#Neural Network Regressor (Using sklearn), One layer of 100 hidden nodes\n",
    "NN_sklearn = MLPRegressor(solver='sgd',hidden_layer_sizes=(100))\n",
    "NN_sklearn.fit(X_train,y_train)\n",
    "NN_sklearn_mse_train = mean_squared_error(y_train,NN_sklearn.predict(X_train))\n",
    "NN_sklearn_mse_valid = mean_squared_error(y_test,NN_sklearn.predict(X_test))"
   ]
  },
  {
   "cell_type": "code",
   "execution_count": 50,
   "metadata": {},
   "outputs": [
    {
     "name": "stdout",
     "output_type": "stream",
     "text": [
      "_________________________________________________________________\n",
      "Layer (type)                 Output Shape              Param #   \n",
      "=================================================================\n",
      "dense_6 (Dense)              (None, 100)               37700     \n",
      "_________________________________________________________________\n",
      "dropout_3 (Dropout)          (None, 100)               0         \n",
      "_________________________________________________________________\n",
      "dense_7 (Dense)              (None, 75)                7575      \n",
      "_________________________________________________________________\n",
      "dropout_4 (Dropout)          (None, 75)                0         \n",
      "_________________________________________________________________\n",
      "dense_8 (Dense)              (None, 50)                3800      \n",
      "_________________________________________________________________\n",
      "dense_9 (Dense)              (None, 20)                1020      \n",
      "_________________________________________________________________\n",
      "dense_10 (Dense)             (None, 1)                 21        \n",
      "=================================================================\n",
      "Total params: 50,116\n",
      "Trainable params: 50,116\n",
      "Non-trainable params: 0\n",
      "_________________________________________________________________\n"
     ]
    }
   ],
   "source": [
    "#Neural Network Regressor (Using Keras)\n",
    "\n",
    "model=Sequential()\n",
    "model.add(Dense(100,activation='relu',input_dim=376))\n",
    "model.add(Dropout(0.10))\n",
    "model.add(Dense(75,activation='relu'))\n",
    "model.add(Dropout(0.10))\n",
    "model.add(Dense(50,activation='relu'))\n",
    "model.add(Dense(20,activation='relu'))\n",
    "model.add(Dense(1))\n",
    "model.summary()\n",
    "model.compile(loss='mean_squared_error', optimizer='rmsprop')"
   ]
  },
  {
   "cell_type": "code",
   "execution_count": 51,
   "metadata": {},
   "outputs": [
    {
     "name": "stdout",
     "output_type": "stream",
     "text": [
      "Epoch 1/10\n",
      "24170/24170 [==============================] - 11s - loss: 1.4160    \n",
      "Epoch 2/10\n",
      "24170/24170 [==============================] - 8s - loss: 1.4102     \n",
      "Epoch 3/10\n",
      "24170/24170 [==============================] - 10s - loss: 0.9722    \n",
      "Epoch 4/10\n",
      "24170/24170 [==============================] - 7s - loss: 0.8881     \n",
      "Epoch 5/10\n",
      "24170/24170 [==============================] - 12s - loss: 0.8512    - ETA: 0s - loss: 0.85\n",
      "Epoch 6/10\n",
      "24170/24170 [==============================] - 6s - loss: 0.7987     \n",
      "Epoch 7/10\n",
      "24170/24170 [==============================] - 7s - loss: 0.7782     \n",
      "Epoch 8/10\n",
      "24170/24170 [==============================] - 12s - loss: 0.8081    \n",
      "Epoch 9/10\n",
      "24170/24170 [==============================] - 7s - loss: 0.7934     \n",
      "Epoch 10/10\n",
      "24170/24170 [==============================] - 10s - loss: 0.7988    \n"
     ]
    }
   ],
   "source": [
    "X = X_train.as_matrix()\n",
    "y = y_train.as_matrix()\n",
    "model.fit(X,y,epochs=10,batch_size=10)\n",
    "NN_keras_mse_train = mean_squared_error(y_train.as_matrix(),model.predict(X_train.as_matrix()))\n",
    "NN_keras_mse_valid = mean_squared_error(y_test.as_matrix(),model.predict(X_test.as_matrix()))"
   ]
  },
  {
   "cell_type": "code",
   "execution_count": 52,
   "metadata": {},
   "outputs": [
    {
     "data": {
      "text/plain": [
       "{'All Zeros': 0.81801792970401255,\n",
       " 'Decision Tree': 0.33375833886838191,\n",
       " 'Linear Regression': 0.56970981082861749,\n",
       " 'Neural Network Keras': 0.69149231292865609,\n",
       " 'Neural Network sklearn': 1.0434217511487462,\n",
       " 'Random Forest': 0.052252905655372356}"
      ]
     },
     "execution_count": 52,
     "metadata": {},
     "output_type": "execute_result"
    }
   ],
   "source": [
    "train_mse_dict = dict({'All Zeros': (all_zeros_mse),\n",
    "               'Neural Network Keras':NN_keras_mse_train,\n",
    "               'Neural Network sklearn':NN_sklearn_mse_train,\n",
    "               'Decision Tree':dec_tree_model_mse_train,\n",
    "               'Random Forest':random_forest_model_mse_train,\n",
    "               'Linear Regression':linear_regression_mse_train\n",
    "               })\n",
    "train_mse_dict"
   ]
  },
  {
   "cell_type": "code",
   "execution_count": 53,
   "metadata": {},
   "outputs": [
    {
     "data": {
      "text/plain": [
       "{'All Zeros': 0.81801792970401255,\n",
       " 'Decision Tree': 0.34480388427470027,\n",
       " 'Linear Regression': 1708228598080.9241,\n",
       " 'Neural Network Keras': 0.50986590525590825,\n",
       " 'Neural Network sklearn': 0.81700526831299447,\n",
       " 'Random Forest': 0.17215673841235946}"
      ]
     },
     "execution_count": 53,
     "metadata": {},
     "output_type": "execute_result"
    }
   ],
   "source": [
    "valid_mse_dict = dict({'All Zeros': (all_zeros_mse),\n",
    "               'Neural Network Keras':NN_keras_mse_valid,\n",
    "               'Neural Network sklearn':NN_sklearn_mse_valid,\n",
    "               'Decision Tree':dec_tree_model_mse_valid,\n",
    "               'Random Forest':random_forest_model_mse_valid,\n",
    "               'Linear Regression':linear_regression_mse_valid\n",
    "               })\n",
    "valid_mse_dict"
   ]
  },
  {
   "cell_type": "code",
   "execution_count": 54,
   "metadata": {
    "collapsed": true
   },
   "outputs": [],
   "source": [
    "test_set_num = test_set.drop(['bracket_pricing','tube_assembly_id','supplier','quote_date'],axis=1)\n",
    "bracket_pricing_ind = pd.get_dummies(test_set.bracket_pricing,drop_first=True)\n",
    "supplier_ind = pd.get_dummies(test_set.supplier)\n",
    "df=pd.DataFrame(std_scaler.fit_transform(test_set_num))\n",
    "df.columns = test_set_num.columns + '_std_scaled'\n",
    "test = pd.concat([df.reset_index(drop=True),bracket_pricing_ind,supplier_ind],axis=1)\n",
    "tube_assembly_df = pd.DataFrame(test_set.tube_assembly_id)\n",
    "test=pd.concat([tube_assembly_df,test],axis=1)\n",
    "df=pd.merge(test,tube_pre,on='tube_assembly_id')\n",
    "test = pd.merge(df,specs_pre).drop('tube_assembly_id',axis=1)"
   ]
  },
  {
   "cell_type": "code",
   "execution_count": 55,
   "metadata": {},
   "outputs": [
    {
     "data": {
      "text/plain": [
       "{'All Zeros': 2.3525028280757914, 'Random Forest': 0.2945424099823206}"
      ]
     },
     "execution_count": 55,
     "metadata": {},
     "output_type": "execute_result"
    }
   ],
   "source": [
    "mean_ = train_set.cost.mean()\n",
    "std_ = train_set.cost.std()\n",
    "\n",
    "all_zeros_rmsle=rmsle(np.zeros(6043),\n",
    "      std_scaler_inverse(y_test,mean_,std_)\n",
    "     )\n",
    "\n",
    "random_forest_rmsle=rmsle(\n",
    "    std_scaler_inverse(random_forest_model.predict(X_test),mean_,std_),\n",
    "    std_scaler_inverse(y_test,mean_,std_)\n",
    ")\n",
    "\n",
    "rmsle_dict = dict({'All Zeros':all_zeros_rmsle,'Random Forest':random_forest_rmsle})\n",
    "rmsle_dict"
   ]
  },
  {
   "cell_type": "code",
   "execution_count": 56,
   "metadata": {
    "collapsed": true
   },
   "outputs": [],
   "source": [
    "# For output to put onto Kaggle website for scoring:\n",
    "\n",
    "predictions=std_scaler_inverse(random_forest_model.predict(test),mean_,std_)\n",
    "my_df = pd.DataFrame(predictions)\n",
    "my_df.to_csv('whorton_predictions2.csv', index=False, header=False)"
   ]
  },
  {
   "cell_type": "markdown",
   "metadata": {
    "collapsed": true
   },
   "source": [
    "0.846 is the new score using this new Random Forest model with added features"
   ]
  },
  {
   "cell_type": "markdown",
   "metadata": {},
   "source": [
    "\n",
    "# Incorporating Individual Components in Modeling Price\n",
    "\n",
    "# Component Features"
   ]
  },
  {
   "cell_type": "code",
   "execution_count": 7,
   "metadata": {
    "collapsed": true
   },
   "outputs": [],
   "source": [
    "# Table merges for comp_sleeve components, only first 4 component ids need merged with the bill of materials dataset\n",
    "\n",
    "df  = pd.merge(bill_of_materials,comp_sleeve,left_on='component_id_1',right_on='component_id',how='left')\n",
    "df2 = pd.merge(df,comp_sleeve,left_on='component_id_2',right_on='component_id',how='left',\n",
    "               suffixes=('','_2'))\n",
    "df3 = pd.merge(df2,comp_sleeve,left_on='component_id_3',right_on='component_id',how='left',\n",
    "               suffixes=('','_3'))\n",
    "sleeve_merged = pd.merge(df3,comp_sleeve,left_on='component_id_4',right_on='component_id',how='left',\n",
    "               suffixes=('','_4'))\n",
    "sleeve_merged=sleeve_merged.replace(9999,np.nan)\n",
    "sleeve_merged=sleeve_merged.replace(np.nan,0)\n",
    "comp_sleeve_wt = sleeve_merged.quantity_1*sleeve_merged.weight + sleeve_merged.quantity_2*sleeve_merged.weight_2 + sleeve_merged.quantity_3*sleeve_merged.weight_3 + sleeve_merged.quantity_4*sleeve_merged.weight_4\n",
    "comp_sleeve_len = sleeve_merged.quantity_1*sleeve_merged.length + sleeve_merged.quantity_2*sleeve_merged.length_2 + sleeve_merged.quantity_3*sleeve_merged.length_3 + sleeve_merged.quantity_4*sleeve_merged.length_4"
   ]
  },
  {
   "cell_type": "code",
   "execution_count": 8,
   "metadata": {
    "collapsed": true
   },
   "outputs": [],
   "source": [
    "# Table merges for comp_tee components, only 2 component ids need merged with the bill of materials dataset\n",
    "\n",
    "df2 = pd.merge(bill_of_materials,comp_tee,left_on='component_id_2',right_on='component_id',how='left')\n",
    "tee_merged = pd.merge(df2,comp_tee,left_on='component_id_3',right_on='component_id',how='left',\n",
    "               suffixes=('','_3'))\n",
    "tee_merged=tee_merged.replace(9999,np.nan)\n",
    "tee_merged=tee_merged.replace(np.nan,0)\n",
    "comp_tee_wt = tee_merged.quantity_2*tee_merged.weight + tee_merged.quantity_3*tee_merged.weight_3\n",
    "comp_tee_len = tee_merged.quantity_2*tee_merged.overall_length + tee_merged.quantity_3*tee_merged.overall_length_3\n",
    "comp_tee_thick = tee_merged.quantity_2*tee_merged.thickness + tee_merged.quantity_3*tee_merged.thickness_3"
   ]
  },
  {
   "cell_type": "code",
   "execution_count": 9,
   "metadata": {
    "collapsed": true
   },
   "outputs": [],
   "source": [
    "# Table merges for comp_float components, only 2 component ids need merged with the bill of materials dataset\n",
    "\n",
    "df  = pd.merge(bill_of_materials,comp_float,left_on='component_id_1',right_on='component_id',how='left')\n",
    "df2 = pd.merge(df,comp_float,left_on='component_id_2',right_on='component_id',how='left',\n",
    "              suffixes=('','_2'))\n",
    "float_merged = pd.merge(df2,comp_float,left_on='component_id_3',right_on='component_id',how='left',\n",
    "               suffixes=('','_3'))\n",
    "float_merged=float_merged.replace(9999,np.nan)\n",
    "float_merged=float_merged.replace(np.nan,0)\n",
    "float_merged\n",
    "comp_float_wt = float_merged.quantity_1*float_merged.weight+float_merged.quantity_2*float_merged.weight_2 + float_merged.quantity_3*float_merged.weight_3\n",
    "comp_float_thick = float_merged.quantity_1*float_merged.thickness+float_merged.quantity_2*float_merged.thickness_2 + float_merged.quantity_3*float_merged.thickness_3"
   ]
  },
  {
   "cell_type": "code",
   "execution_count": 10,
   "metadata": {
    "collapsed": true
   },
   "outputs": [],
   "source": [
    "# Table merges for comp_elbow components, only first 5 component ids need merged with the bill of materials dataset\n",
    "\n",
    "df  = pd.merge(bill_of_materials,comp_elbow,left_on='component_id_1',right_on='component_id',how='left')\n",
    "df2 = pd.merge(df,comp_elbow,left_on='component_id_2',right_on='component_id',how='left',\n",
    "               suffixes=('','_2'))\n",
    "df3 = pd.merge(df2,comp_elbow,left_on='component_id_3',right_on='component_id',how='left',\n",
    "               suffixes=('','_3'))\n",
    "df4 = pd.merge(df3,comp_elbow,left_on='component_id_4',right_on='component_id',how='left',\n",
    "               suffixes=('','_4'))\n",
    "elbow_merged = pd.merge(df4,comp_elbow,left_on='component_id_5',right_on='component_id',how='left',\n",
    "               suffixes=('','_5'))\n",
    "elbow_merged=elbow_merged.replace(9999,np.nan)\n",
    "elbow_merged=elbow_merged.replace(np.nan,0)\n",
    "comp_elbow_wt = elbow_merged.quantity_1*elbow_merged.weight + elbow_merged.quantity_2*elbow_merged.weight_2 + elbow_merged.quantity_3*elbow_merged.weight_3 + elbow_merged.quantity_4*elbow_merged.weight_4 + elbow_merged.quantity_5*elbow_merged.weight_5\n",
    "comp_elbow_thick = elbow_merged.quantity_1*elbow_merged.thickness + elbow_merged.quantity_2*elbow_merged.thickness_2 + elbow_merged.quantity_3*elbow_merged.thickness_3 + elbow_merged.quantity_4*elbow_merged.thickness_4 + elbow_merged.quantity_5*elbow_merged.thickness_5\n",
    "comp_elbow_len = elbow_merged.quantity_1*elbow_merged.overall_length + elbow_merged.quantity_2*elbow_merged.overall_length + elbow_merged.quantity_3*elbow_merged.overall_length_3 + elbow_merged.quantity_4*elbow_merged.overall_length_4 + elbow_merged.quantity_5*elbow_merged.overall_length_5"
   ]
  },
  {
   "cell_type": "code",
   "execution_count": 11,
   "metadata": {
    "collapsed": true
   },
   "outputs": [],
   "source": [
    "# Table merges for comp_other components, all component ids need merged with the bill of materials dataset\n",
    "\n",
    "df  = pd.merge(bill_of_materials,comp_other,left_on='component_id_1',right_on='component_id',how='left')\n",
    "df2 = pd.merge(df,comp_other,left_on='component_id_2',right_on='component_id',how='left',\n",
    "               suffixes=('','_2'))\n",
    "df3 = pd.merge(df2,comp_other,left_on='component_id_3',right_on='component_id',how='left',\n",
    "               suffixes=('','_3'))\n",
    "df4 = pd.merge(df3,comp_other,left_on='component_id_4',right_on='component_id',how='left',\n",
    "               suffixes=('','_4'))\n",
    "df5 = pd.merge(df4,comp_other,left_on='component_id_5',right_on='component_id',how='left',\n",
    "               suffixes=('','_5'))\n",
    "df6 = pd.merge(df5,comp_other,left_on='component_id_6',right_on='component_id',how='left',\n",
    "               suffixes=('','_6'))\n",
    "df7 = pd.merge(df6,comp_other,left_on='component_id_7',right_on='component_id',how='left',\n",
    "               suffixes=('','_7'))\n",
    "other_merged = pd.merge(df7,comp_other,left_on='component_id_8',right_on='component_id',how='left',\n",
    "               suffixes=('','_8'))\n",
    "other_merged=other_merged.replace(np.nan,0)\n",
    "comp_other_wt = other_merged.quantity_1*other_merged.weight + other_merged.quantity_2*other_merged.weight_2 + other_merged.quantity_3*other_merged.weight_3 + other_merged.quantity_4*other_merged.weight_4 + other_merged.quantity_5*other_merged.weight_5 + other_merged.quantity_6*other_merged.weight_6 + other_merged.quantity_7*other_merged.weight_7 + other_merged.quantity_8*other_merged.weight_8"
   ]
  },
  {
   "cell_type": "code",
   "execution_count": 12,
   "metadata": {
    "collapsed": true
   },
   "outputs": [],
   "source": [
    "# Table merges for comp_straight components, only first 6 component ids need merged with the bill of materials dataset\n",
    "\n",
    "df  = pd.merge(bill_of_materials,comp_straight,left_on='component_id_1',right_on='component_id',how='left')\n",
    "df2 = pd.merge(df,comp_straight,left_on='component_id_2',right_on='component_id',how='left',\n",
    "               suffixes=('','_2'))\n",
    "df3 = pd.merge(df2,comp_straight,left_on='component_id_3',right_on='component_id',how='left',\n",
    "               suffixes=('','_3'))\n",
    "df4 = pd.merge(df3,comp_straight,left_on='component_id_4',right_on='component_id',how='left',\n",
    "               suffixes=('','_4'))\n",
    "df5 = pd.merge(df4,comp_straight,left_on='component_id_5',right_on='component_id',how='left',\n",
    "               suffixes=('','_5'))\n",
    "straight_merged = pd.merge(df5,comp_straight,left_on='component_id_6',right_on='component_id',how='left',\n",
    "               suffixes=('','_6'))\n",
    "straight_merged=straight_merged.replace(9999,0)\n",
    "straight_merged=straight_merged.replace(np.nan,0)\n",
    "comp_straight_wt = straight_merged.quantity_1*straight_merged.weight + straight_merged.quantity_2*straight_merged.weight_2 + straight_merged.quantity_3*straight_merged.weight_3 + straight_merged.quantity_4*straight_merged.weight_4 + straight_merged.quantity_5*straight_merged.weight_5+ straight_merged.quantity_6*straight_merged.weight_6\n",
    "comp_straight_len = straight_merged.quantity_1*straight_merged.overall_length + straight_merged.quantity_2*straight_merged.overall_length_2 + straight_merged.quantity_3*straight_merged.overall_length_3 + straight_merged.quantity_4*straight_merged.overall_length_4 + straight_merged.quantity_5*straight_merged.overall_length_5+ straight_merged.quantity_6*straight_merged.overall_length_6\n",
    "comp_straight_thick = straight_merged.quantity_1*straight_merged.thickness + straight_merged.quantity_2*straight_merged.thickness_2 + straight_merged.quantity_3*straight_merged.thickness_3 + straight_merged.quantity_4*straight_merged.thickness_4 + straight_merged.quantity_5*straight_merged.thickness_5+ straight_merged.quantity_6*straight_merged.thickness_6"
   ]
  },
  {
   "cell_type": "code",
   "execution_count": 13,
   "metadata": {
    "collapsed": true
   },
   "outputs": [],
   "source": [
    "# Table merges for comp_adaptor components, only first 5 component ids need merged with the bill of materials dataset\n",
    "\n",
    "df  = pd.merge(bill_of_materials,comp_adaptor,left_on='component_id_1',right_on='component_id',how='left')\n",
    "df2 = pd.merge(df,comp_adaptor,left_on='component_id_2',right_on='component_id',how='left',\n",
    "               suffixes=('','_2'))\n",
    "df3 = pd.merge(df2,comp_adaptor,left_on='component_id_3',right_on='component_id',how='left',\n",
    "               suffixes=('','_3'))\n",
    "df4 = pd.merge(df3,comp_adaptor,left_on='component_id_4',right_on='component_id',how='left',\n",
    "               suffixes=('','_4'))\n",
    "adaptor_merged = pd.merge(df4,comp_adaptor,left_on='component_id_5',right_on='component_id',how='left',\n",
    "               suffixes=('','_5'))\n",
    "adaptor_merged=adaptor_merged.replace(9999,np.nan)\n",
    "adaptor_merged=adaptor_merged.replace(np.nan,0)\n",
    "comp_adaptor_wt = adaptor_merged.quantity_1*adaptor_merged.weight + adaptor_merged.quantity_2*adaptor_merged.weight_2 + adaptor_merged.quantity_3*adaptor_merged.weight_3 + adaptor_merged.quantity_4*adaptor_merged.weight_4 + adaptor_merged.quantity_5*adaptor_merged.weight_5\n",
    "comp_adaptor_len = adaptor_merged.quantity_1*adaptor_merged.overall_length + adaptor_merged.quantity_2*adaptor_merged.overall_length_2 + adaptor_merged.quantity_3*adaptor_merged.overall_length_3 + adaptor_merged.quantity_4*adaptor_merged.overall_length_4 + adaptor_merged.quantity_5*adaptor_merged.overall_length_5"
   ]
  },
  {
   "cell_type": "code",
   "execution_count": 14,
   "metadata": {
    "collapsed": true
   },
   "outputs": [],
   "source": [
    "# Table merges for comp_boss components, only first 6 component ids need merged with the bill of materials dataset\n",
    "\n",
    "df  = pd.merge(bill_of_materials,comp_boss,left_on='component_id_1',right_on='component_id',how='left')\n",
    "df2 = pd.merge(df,comp_boss,left_on='component_id_2',right_on='component_id',how='left',\n",
    "               suffixes=('','_2'))\n",
    "df3 = pd.merge(df2,comp_boss,left_on='component_id_3',right_on='component_id',how='left',\n",
    "               suffixes=('','_3'))\n",
    "df4 = pd.merge(df3,comp_boss,left_on='component_id_4',right_on='component_id',how='left',\n",
    "               suffixes=('','_4'))\n",
    "df5 = pd.merge(df4,comp_boss,left_on='component_id_5',right_on='component_id',how='left',\n",
    "               suffixes=('','_5'))\n",
    "boss_merged = pd.merge(df5,comp_boss,left_on='component_id_6',right_on='component_id',how='left',\n",
    "               suffixes=('','_6'))\n",
    "boss_merged=boss_merged.replace(np.nan,0)\n",
    "comp_boss_wt = boss_merged.quantity_1*boss_merged.weight + boss_merged.quantity_2*boss_merged.weight_2 + boss_merged.quantity_3*boss_merged.weight_3 + boss_merged.quantity_4*boss_merged.weight_4 + boss_merged.quantity_5*boss_merged.weight_5+ boss_merged.quantity_6*boss_merged.weight_6\n"
   ]
  },
  {
   "cell_type": "code",
   "execution_count": 15,
   "metadata": {
    "collapsed": true
   },
   "outputs": [],
   "source": [
    "# Table merges for comp_threaded components, only first 6 component ids need merged with the bill of materials dataset\n",
    "\n",
    "df  = pd.merge(bill_of_materials,comp_threaded,left_on='component_id_1',right_on='component_id',how='left')\n",
    "df2 = pd.merge(df,comp_threaded,left_on='component_id_2',right_on='component_id',how='left',\n",
    "               suffixes=('','_2'))\n",
    "df3 = pd.merge(df2,comp_threaded,left_on='component_id_3',right_on='component_id',how='left',\n",
    "               suffixes=('','_3'))\n",
    "df4 = pd.merge(df3,comp_threaded,left_on='component_id_4',right_on='component_id',how='left',\n",
    "               suffixes=('','_4'))\n",
    "df5 = pd.merge(df4,comp_threaded,left_on='component_id_5',right_on='component_id',how='left',\n",
    "               suffixes=('','_5'))\n",
    "threaded_merged = pd.merge(df5,comp_threaded,left_on='component_id_6',right_on='component_id',how='left',\n",
    "               suffixes=('','_6'))\n",
    "threaded_merged=threaded_merged.replace(9999,np.nan)\n",
    "threaded_merged=threaded_merged.replace(np.nan,0)\n",
    "comp_threaded_wt = threaded_merged.quantity_1*threaded_merged.weight + threaded_merged.quantity_2*threaded_merged.weight_2 + threaded_merged.quantity_3*threaded_merged.weight_3 + threaded_merged.quantity_4*threaded_merged.weight_4 + threaded_merged.quantity_5*threaded_merged.weight_5+ threaded_merged.quantity_6*threaded_merged.weight_6\n",
    "comp_threaded_len = threaded_merged.quantity_1*threaded_merged.overall_length + threaded_merged.quantity_2*threaded_merged.overall_length_2 + threaded_merged.quantity_3*threaded_merged.overall_length_3 + threaded_merged.quantity_4*threaded_merged.overall_length_4 + threaded_merged.quantity_5*threaded_merged.overall_length_5+ threaded_merged.quantity_6*threaded_merged.overall_length_6"
   ]
  },
  {
   "cell_type": "code",
   "execution_count": 16,
   "metadata": {
    "collapsed": true
   },
   "outputs": [],
   "source": [
    "# Table merges for comp_hfl components, only 2 component ids need merged with the bill of materials dataset\n",
    "\n",
    "df3 = pd.merge(bill_of_materials,comp_hfl,left_on='component_id_3',right_on='component_id',how='left')\n",
    "df4 = pd.merge(df3,comp_hfl,left_on='component_id_4',right_on='component_id',how='left',\n",
    "               suffixes=('','_4'))\n",
    "hfl_merged = pd.merge(df4,comp_hfl,left_on='component_id_5',right_on='component_id',how='left',\n",
    "               suffixes=('','_5'))\n",
    "hfl_merged=hfl_merged.replace(np.nan,0)\n",
    "comp_hfl_wt = hfl_merged.quantity_2*hfl_merged.weight + hfl_merged.quantity_4*hfl_merged.weight_4 + hfl_merged.quantity_5*hfl_merged.weight_5"
   ]
  },
  {
   "cell_type": "code",
   "execution_count": 17,
   "metadata": {
    "collapsed": true,
    "scrolled": true
   },
   "outputs": [],
   "source": [
    "std_scaler = StandardScaler()\n",
    "components_df = pd.DataFrame(\n",
    "    {    \n",
    "    'comp_hfl':(comp_hfl_wt),\n",
    "    'comp_threaded_wt':comp_threaded_wt,\n",
    "    'comp_threaded_len':comp_threaded_len,\n",
    "    'comp_boss_wt':comp_boss_wt,\n",
    "    'comp_adaptor_wt':comp_adaptor_wt,\n",
    "    'comp_adaptor_len':comp_adaptor_len,\n",
    "    'comp_straight_wt':comp_straight_wt,\n",
    "    'comp_straight_len':comp_straight_len,\n",
    "    'comp_straight_thick':comp_straight_thick,\n",
    "    'comp_other_wt':comp_other_wt,\n",
    "    'comp_elbow_wt':comp_elbow_wt,\n",
    "    'comp_elbow_len':comp_elbow_len,\n",
    "    'comp_elbow_thick':comp_elbow_thick,\n",
    "    'comp_float_wt':comp_float_wt,\n",
    "    'comp_float_thick':comp_float_thick,\n",
    "    'comp_tee_wt':comp_tee_wt,\n",
    "    'comp_tee_len':comp_tee_len,\n",
    "    'comp_tee_thick':comp_tee_thick,\n",
    "    'comp_sleeve_wt':comp_sleeve_wt,\n",
    "    'comp_sleeve_len':comp_sleeve_len,\n",
    "    #'tube_assembly_id':bill_of_materials.tube_assembly_id\n",
    "    }\n",
    ")\n",
    "df = pd.DataFrame(std_scaler.fit_transform(components_df))\n",
    "df.columns = components_df.columns\n",
    "components_df_std=pd.concat([df,bill_of_materials.tube_assembly_id],axis=1)"
   ]
  },
  {
   "cell_type": "code",
   "execution_count": 20,
   "metadata": {
    "collapsed": true
   },
   "outputs": [],
   "source": [
    "std_scaler = StandardScaler()\n",
    "train_set_num = train_set.drop(['bracket_pricing','tube_assembly_id','supplier','quote_date'],axis=1)\n",
    "bracket_pricing_ind = pd.get_dummies(train_set.bracket_pricing,drop_first=True)\n",
    "supplier_ind = pd.get_dummies(train_set.supplier)\n",
    "df=pd.DataFrame(std_scaler.fit_transform(train_set_num))\n",
    "df.columns = train_set_num.columns + '_std_scaled'\n",
    "train = pd.concat([df.reset_index(drop=True),bracket_pricing_ind,supplier_ind],axis=1)\n",
    "tube_assembly_df = pd.DataFrame(train_set.tube_assembly_id)\n",
    "train=pd.concat([tube_assembly_df,train],axis=1)\n",
    "df=pd.merge(train,tube_pre,on='tube_assembly_id')\n",
    "df=pd.merge(df,components_df_std,on='tube_assembly_id',how='left')\n",
    "train = pd.merge(df,specs_pre).drop('tube_assembly_id',axis=1)"
   ]
  },
  {
   "cell_type": "code",
   "execution_count": 21,
   "metadata": {},
   "outputs": [
    {
     "name": "stdout",
     "output_type": "stream",
     "text": [
      "Training and testing split was successful.\n"
     ]
    }
   ],
   "source": [
    "# Split training dataset into 'train' and 'test'\n",
    "\n",
    "price = train.cost_std_scaled\n",
    "features = train.drop('cost_std_scaled',axis=1)\n",
    "\n",
    "X_train, X_test, y_train, y_test = train_test_split(features, price, test_size=0.20, random_state=42)\n",
    "\n",
    "print(\"Training and testing split was successful.\")"
   ]
  },
  {
   "cell_type": "code",
   "execution_count": 70,
   "metadata": {
    "collapsed": true
   },
   "outputs": [],
   "source": [
    "#All zeros\n",
    "all_zeros_mse = mean_squared_error(np.zeros(6043),y_test)\n",
    "\n",
    "#Linear Regression\n",
    "\n",
    "lin_reg = LinearRegression()\n",
    "lin_reg.fit(X_train,y_train)\n",
    "linear_regression_mse_train=mean_squared_error(y_train,lin_reg.predict(X_train))\n",
    "linear_regression_mse_valid=mean_squared_error(y_test,lin_reg.predict(X_test))\n",
    "\n",
    "#Support Vector Regressor\n",
    "svm_reg = SVR()\n",
    "svm_reg.fit(X_train,y_train)\n",
    "svm_mse_train=mean_squared_error(y_train,svm_reg.predict(X_train))\n",
    "svm_mse_valid=mean_squared_error(y_test,svm_reg.predict(X_test))\n",
    "\n",
    "#Random Forest Regressor\n",
    "random_forest_model = RandomForestRegressor()\n",
    "random_forest_model.fit(X_train,y_train)\n",
    "random_forest_model_mse_train = mean_squared_error(y_train,random_forest_model.predict(X_train))\n",
    "random_forest_model_mse_valid = mean_squared_error(y_test,random_forest_model.predict(X_test))\n",
    "\n",
    "#Decision Tree Regressor\n",
    "dec_tree_model = DecisionTreeRegressor()\n",
    "\n",
    "param_grid = [\n",
    " {'min_samples_split': [2,5,10], 'max_depth': [2,4,5,8],'min_samples_leaf': [1,2,4,10]}\n",
    "]\n",
    "\n",
    "grid_search = GridSearchCV(dec_tree_model, param_grid, cv=5, scoring='neg_mean_squared_error')\n",
    "\n",
    "grid_search.fit(X_train,y_train)\n",
    "\n",
    "dec_tree_model = grid_search.best_estimator_\n",
    "dec_tree_model_mse_train = mean_squared_error(y_train,dec_tree_model.predict(X_train))\n",
    "dec_tree_model_mse_valid = mean_squared_error(y_test,dec_tree_model.predict(X_test))\n",
    "\n",
    "#Neural Network Regressor (Using sklearn), One layer of 100 hidden nodes\n",
    "NN_sklearn = MLPRegressor(solver='sgd',hidden_layer_sizes=(100))\n",
    "NN_sklearn.fit(X_train,y_train)\n",
    "NN_sklearn_mse_train = mean_squared_error(y_train,NN_sklearn.predict(X_train))\n",
    "NN_sklearn_mse_valid = mean_squared_error(y_test,NN_sklearn.predict(X_test))"
   ]
  },
  {
   "cell_type": "code",
   "execution_count": 71,
   "metadata": {},
   "outputs": [
    {
     "data": {
      "text/plain": [
       "{'All Zeros': 0.81801792970401255,\n",
       " 'Decision Tree': 0.26164942092714022,\n",
       " 'Linear Regression': 0.52487519744493971,\n",
       " 'Neural Network Keras': 0.69149231292865609,\n",
       " 'Neural Network sklearn': 1.0421431588997696,\n",
       " 'Random Forest': 0.044382518072269998}"
      ]
     },
     "execution_count": 71,
     "metadata": {},
     "output_type": "execute_result"
    }
   ],
   "source": [
    "train_mse_dict = dict({'All Zeros': (all_zeros_mse),\n",
    "               'Neural Network Keras':NN_keras_mse_train,\n",
    "               'Neural Network sklearn':NN_sklearn_mse_train,\n",
    "               'Decision Tree':dec_tree_model_mse_train,\n",
    "               'Random Forest':random_forest_model_mse_train,\n",
    "               'Linear Regression':linear_regression_mse_train\n",
    "               })\n",
    "train_mse_dict"
   ]
  },
  {
   "cell_type": "code",
   "execution_count": 72,
   "metadata": {},
   "outputs": [
    {
     "data": {
      "text/plain": [
       "{'All Zeros': 0.81801792970401255,\n",
       " 'Decision Tree': 0.33679778337962468,\n",
       " 'Linear Regression': 12355583356404.115,\n",
       " 'Neural Network Keras': 0.50986590525590825,\n",
       " 'Neural Network sklearn': 0.81502342790788351,\n",
       " 'Random Forest': 0.18134583283217029}"
      ]
     },
     "execution_count": 72,
     "metadata": {},
     "output_type": "execute_result"
    }
   ],
   "source": [
    "valid_mse_dict = dict({'All Zeros': (all_zeros_mse),\n",
    "               'Neural Network Keras':NN_keras_mse_valid,\n",
    "               'Neural Network sklearn':NN_sklearn_mse_valid,\n",
    "               'Decision Tree':dec_tree_model_mse_valid,\n",
    "               'Random Forest':random_forest_model_mse_valid,\n",
    "               'Linear Regression':linear_regression_mse_valid\n",
    "               })\n",
    "valid_mse_dict"
   ]
  },
  {
   "cell_type": "code",
   "execution_count": 73,
   "metadata": {},
   "outputs": [
    {
     "data": {
      "text/plain": [
       "{'All Zeros': 2.3525028280757914, 'Random Forest': 0.2705059100161807}"
      ]
     },
     "execution_count": 73,
     "metadata": {},
     "output_type": "execute_result"
    }
   ],
   "source": [
    "mean_ = train_set.cost.mean()\n",
    "std_ = train_set.cost.std()\n",
    "\n",
    "all_zeros_rmsle=rmsle(np.zeros(6043),\n",
    "      std_scaler_inverse(y_test,mean_,std_)\n",
    "     )\n",
    "\n",
    "random_forest_rmsle=rmsle(\n",
    "    std_scaler_inverse(random_forest_model.predict(X_test),mean_,std_),\n",
    "    std_scaler_inverse(y_test,mean_,std_)\n",
    ")\n",
    "\n",
    "\n",
    "rmsle_dict = dict({'All Zeros':all_zeros_rmsle,'Random Forest':random_forest_rmsle})\n",
    "rmsle_dict"
   ]
  },
  {
   "cell_type": "markdown",
   "metadata": {},
   "source": [
    "Some improvement incorporating new features."
   ]
  },
  {
   "cell_type": "code",
   "execution_count": 74,
   "metadata": {
    "collapsed": true
   },
   "outputs": [],
   "source": [
    "std_scaler = StandardScaler()\n",
    "test_set_num = test_set.drop(['bracket_pricing','tube_assembly_id','supplier','quote_date'],axis=1)\n",
    "bracket_pricing_ind = pd.get_dummies(test_set.bracket_pricing,drop_first=True)\n",
    "supplier_ind = pd.get_dummies(test_set.supplier)\n",
    "df=pd.DataFrame(std_scaler.fit_transform(test_set_num))\n",
    "df.columns = test_set_num.columns + '_std_scaled'\n",
    "test = pd.concat([df.reset_index(drop=True),bracket_pricing_ind,supplier_ind],axis=1)\n",
    "tube_assembly_df = pd.DataFrame(test_set.tube_assembly_id)\n",
    "test=pd.concat([tube_assembly_df,test],axis=1)\n",
    "df=pd.merge(test,tube_pre,on='tube_assembly_id')\n",
    "df=pd.merge(df,components_df_std,on='tube_assembly_id',how='left')\n",
    "test = pd.merge(df,specs_pre).drop('tube_assembly_id',axis=1)"
   ]
  },
  {
   "cell_type": "code",
   "execution_count": 75,
   "metadata": {
    "collapsed": true
   },
   "outputs": [],
   "source": [
    "# For output to put onto Kaggle website for scoring:\n",
    "\n",
    "predictions=std_scaler_inverse(random_forest_model.predict(test),mean_,std_)\n",
    "my_df = pd.DataFrame(predictions)\n",
    "my_df.to_csv('whorton_predictions3.csv', index=False, header=False)"
   ]
  },
  {
   "cell_type": "markdown",
   "metadata": {},
   "source": [
    "Improved to 0.796455"
   ]
  },
  {
   "cell_type": "markdown",
   "metadata": {},
   "source": [
    "** Continuous Feature Changes or Imputations **\n",
    "\n",
    "comp_adaptor:\n",
    "Thread size number 2 and thread pitch number 2 each have a single erroneous value of 9999, to be replaced with NaN\n",
    "\n",
    "comp_boss:\n",
    "Looks to me that the 999 value is erroneous, but shouldn't be mean or median imputed.  This is a feature of a particular component, but still continous.  Change to NaN or Null.\n",
    "\n",
    "comp_sleeve:\n",
    "Change the 9999 values to NaN\n",
    "\n",
    "comp_elbow:\n",
    "Change the 9999 values to NaN.\n",
    "\n",
    "comp_threaded:\n",
    "Nominal size 4 has no values contained in it.  Nominal size 3 and size 2 has a maximum value of 9999."
   ]
  },
  {
   "cell_type": "code",
   "execution_count": 76,
   "metadata": {
    "collapsed": true
   },
   "outputs": [],
   "source": [
    "comp_adaptor.thread_size_2.replace(9999,np.nan,inplace=True)\n",
    "comp_adaptor.thread_pitch_2.replace(9999,np.nan,inplace=True)\n",
    "comp_boss.height_over_tube.replace(9999,np.nan,inplace=True)\n",
    "comp_sleeve.length.replace(9999,np.nan,inplace=True)\n",
    "comp_elbow.drop_length.replace(9999,np.nan,inplace=True)\n",
    "comp_threaded.nominal_size_2.replace(9999,np.nan,inplace=True)\n",
    "comp_threaded.nominal_size_3.replace(9999,np.nan,inplace=True)"
   ]
  },
  {
   "cell_type": "code",
   "execution_count": 77,
   "metadata": {
    "collapsed": true
   },
   "outputs": [],
   "source": [
    "tee_comp_ids = list(comp_tee['component_id'])\n",
    "hfl_comp_ids = list(comp_hfl['component_id'])\n",
    "other_comp_ids = list(comp_other['component_id'])\n",
    "boss_comp_ids = list(comp_boss['component_id'])\n",
    "threaded_comp_ids = list(comp_threaded['component_id'])\n",
    "sleeve_comp_ids = list(comp_sleeve['component_id'])\n",
    "straight_comp_ids = list(comp_straight['component_id'])\n",
    "elbow_comp_ids = list(comp_elbow['component_id'])\n",
    "adaptor_comp_ids = list(comp_adaptor['component_id'])\n",
    "float_comp_ids = list(comp_float['component_id'])\n",
    "\n",
    "allcompsids = list(tee_comp_ids+hfl_comp_ids+other_comp_ids+boss_comp_ids+threaded_comp_ids+sleeve_comp_ids\n",
    "                  +straight_comp_ids+elbow_comp_ids+adaptor_comp_ids+float_comp_ids)"
   ]
  },
  {
   "cell_type": "code",
   "execution_count": 78,
   "metadata": {},
   "outputs": [
    {
     "data": {
      "text/html": [
       "<div>\n",
       "<style>\n",
       "    .dataframe thead tr:only-child th {\n",
       "        text-align: right;\n",
       "    }\n",
       "\n",
       "    .dataframe thead th {\n",
       "        text-align: left;\n",
       "    }\n",
       "\n",
       "    .dataframe tbody tr th {\n",
       "        vertical-align: top;\n",
       "    }\n",
       "</style>\n",
       "<table border=\"1\" class=\"dataframe\">\n",
       "  <thead>\n",
       "    <tr style=\"text-align: right;\">\n",
       "      <th></th>\n",
       "      <th>Bill of Materials</th>\n",
       "      <th>comp_adaptor</th>\n",
       "      <th>comp_boss</th>\n",
       "      <th>comp_elbow</th>\n",
       "      <th>comp_float</th>\n",
       "      <th>comp_hfl</th>\n",
       "      <th>comp_other</th>\n",
       "      <th>comp_sleeve</th>\n",
       "      <th>comp_straight</th>\n",
       "      <th>comp_tee</th>\n",
       "      <th>comp_threaded</th>\n",
       "    </tr>\n",
       "  </thead>\n",
       "  <tbody>\n",
       "    <tr>\n",
       "      <th>0</th>\n",
       "      <td>component_id_1</td>\n",
       "      <td>1748</td>\n",
       "      <td>423</td>\n",
       "      <td>299</td>\n",
       "      <td>13</td>\n",
       "      <td>0</td>\n",
       "      <td>1501</td>\n",
       "      <td>1080</td>\n",
       "      <td>1057</td>\n",
       "      <td>0</td>\n",
       "      <td>2055</td>\n",
       "    </tr>\n",
       "    <tr>\n",
       "      <th>1</th>\n",
       "      <td>component_id_2</td>\n",
       "      <td>7</td>\n",
       "      <td>169</td>\n",
       "      <td>231</td>\n",
       "      <td>8</td>\n",
       "      <td>0</td>\n",
       "      <td>986</td>\n",
       "      <td>10670</td>\n",
       "      <td>390</td>\n",
       "      <td>4</td>\n",
       "      <td>852</td>\n",
       "    </tr>\n",
       "    <tr>\n",
       "      <th>2</th>\n",
       "      <td>component_id_3</td>\n",
       "      <td>2</td>\n",
       "      <td>167</td>\n",
       "      <td>141</td>\n",
       "      <td>10</td>\n",
       "      <td>3</td>\n",
       "      <td>399</td>\n",
       "      <td>525</td>\n",
       "      <td>209</td>\n",
       "      <td>4</td>\n",
       "      <td>3219</td>\n",
       "    </tr>\n",
       "    <tr>\n",
       "      <th>3</th>\n",
       "      <td>component_id_4</td>\n",
       "      <td>1</td>\n",
       "      <td>121</td>\n",
       "      <td>12</td>\n",
       "      <td>0</td>\n",
       "      <td>1</td>\n",
       "      <td>117</td>\n",
       "      <td>256</td>\n",
       "      <td>44</td>\n",
       "      <td>0</td>\n",
       "      <td>49</td>\n",
       "    </tr>\n",
       "    <tr>\n",
       "      <th>4</th>\n",
       "      <td>component_id_5</td>\n",
       "      <td>1</td>\n",
       "      <td>14</td>\n",
       "      <td>1</td>\n",
       "      <td>0</td>\n",
       "      <td>12</td>\n",
       "      <td>54</td>\n",
       "      <td>0</td>\n",
       "      <td>6</td>\n",
       "      <td>0</td>\n",
       "      <td>4</td>\n",
       "    </tr>\n",
       "    <tr>\n",
       "      <th>5</th>\n",
       "      <td>component_id_6</td>\n",
       "      <td>0</td>\n",
       "      <td>3</td>\n",
       "      <td>0</td>\n",
       "      <td>0</td>\n",
       "      <td>0</td>\n",
       "      <td>19</td>\n",
       "      <td>0</td>\n",
       "      <td>1</td>\n",
       "      <td>0</td>\n",
       "      <td>3</td>\n",
       "    </tr>\n",
       "    <tr>\n",
       "      <th>6</th>\n",
       "      <td>component_id_7</td>\n",
       "      <td>0</td>\n",
       "      <td>0</td>\n",
       "      <td>0</td>\n",
       "      <td>0</td>\n",
       "      <td>0</td>\n",
       "      <td>7</td>\n",
       "      <td>0</td>\n",
       "      <td>0</td>\n",
       "      <td>0</td>\n",
       "      <td>0</td>\n",
       "    </tr>\n",
       "    <tr>\n",
       "      <th>7</th>\n",
       "      <td>component_id_8</td>\n",
       "      <td>0</td>\n",
       "      <td>0</td>\n",
       "      <td>0</td>\n",
       "      <td>0</td>\n",
       "      <td>0</td>\n",
       "      <td>1</td>\n",
       "      <td>0</td>\n",
       "      <td>0</td>\n",
       "      <td>0</td>\n",
       "      <td>0</td>\n",
       "    </tr>\n",
       "  </tbody>\n",
       "</table>\n",
       "</div>"
      ],
      "text/plain": [
       "  Bill of Materials  comp_adaptor  comp_boss  comp_elbow  comp_float  \\\n",
       "0    component_id_1          1748        423         299          13   \n",
       "1    component_id_2             7        169         231           8   \n",
       "2    component_id_3             2        167         141          10   \n",
       "3    component_id_4             1        121          12           0   \n",
       "4    component_id_5             1         14           1           0   \n",
       "5    component_id_6             0          3           0           0   \n",
       "6    component_id_7             0          0           0           0   \n",
       "7    component_id_8             0          0           0           0   \n",
       "\n",
       "   comp_hfl  comp_other  comp_sleeve  comp_straight  comp_tee  comp_threaded  \n",
       "0         0        1501         1080           1057         0           2055  \n",
       "1         0         986        10670            390         4            852  \n",
       "2         3         399          525            209         4           3219  \n",
       "3         1         117          256             44         0             49  \n",
       "4        12          54            0              6         0              4  \n",
       "5         0          19            0              1         0              3  \n",
       "6         0           7            0              0         0              0  \n",
       "7         0           1            0              0         0              0  "
      ]
     },
     "execution_count": 78,
     "metadata": {},
     "output_type": "execute_result"
    }
   ],
   "source": [
    "component_id_list = (\"component_id_1\",\"component_id_2\",\"component_id_3\",\"component_id_4\",\n",
    "                    \"component_id_5\",\"component_id_6\",\"component_id_7\",\"component_id_8\")\n",
    "\n",
    "component_match_df = pd.DataFrame({'Bill of Materials': component_id_list,\n",
    "                  'comp_tee': tuple(my_merger(bill_of_materials,comp_tee,component_id_list)),\n",
    "                  'comp_sleeve': tuple(my_merger(bill_of_materials,comp_sleeve,component_id_list)),\n",
    "                  'comp_threaded': tuple(my_merger(bill_of_materials,comp_threaded,component_id_list)),\n",
    "                  'comp_boss': tuple(my_merger(bill_of_materials,comp_boss,component_id_list)),\n",
    "                  'comp_hfl': tuple(my_merger(bill_of_materials,comp_hfl,component_id_list)),\n",
    "                  'comp_adaptor': tuple(my_merger(bill_of_materials,comp_adaptor,component_id_list)),\n",
    "                  'comp_elbow': tuple(my_merger(bill_of_materials,comp_elbow,component_id_list)),\n",
    "                  'comp_straight': tuple(my_merger(bill_of_materials,comp_straight,component_id_list)),\n",
    "                   'comp_float': tuple(my_merger(bill_of_materials,comp_float,component_id_list)),\n",
    "                   'comp_other': tuple(my_merger(bill_of_materials,comp_other,component_id_list))\n",
    "                  })\n",
    "component_match_df"
   ]
  },
  {
   "cell_type": "markdown",
   "metadata": {
    "collapsed": true
   },
   "source": [
    "# Dimension Reduction and Feature Engineering"
   ]
  },
  {
   "cell_type": "code",
   "execution_count": 22,
   "metadata": {},
   "outputs": [
    {
     "name": "stdout",
     "output_type": "stream",
     "text": [
      "Observations per feature: 61.0\n"
     ]
    }
   ],
   "source": [
    "x=round(X_train.shape[0]*1.0/X_train.shape[1]*1.0,0)\n",
    "print(\"Observations per feature: \"+str(x))"
   ]
  },
  {
   "cell_type": "code",
   "execution_count": 36,
   "metadata": {
    "collapsed": true
   },
   "outputs": [],
   "source": [
    "X_train_num = X_train[[\n",
    "'annual_usage_std_scaled','min_order_quantity_std_scaled','quantity_std_scaled','diameter','wall',\n",
    "'length','num_bends','bend_radius','num_boss','num_bracket','other','comp_adaptor_len',\n",
    "'comp_adaptor_wt','comp_boss_wt','comp_elbow_len','comp_elbow_thick','comp_elbow_wt',\n",
    "'comp_float_thick','comp_float_wt','comp_hfl','comp_other_wt','comp_sleeve_len',\n",
    "'comp_sleeve_wt','comp_straight_len','comp_straight_thick','comp_straight_wt',\n",
    "'comp_tee_len','comp_tee_thick','comp_tee_wt','comp_threaded_len','comp_threaded_wt'\n",
    "]]\n",
    "\n",
    "X_test_num = X_test[[\n",
    "'annual_usage_std_scaled','min_order_quantity_std_scaled','quantity_std_scaled','diameter',\n",
    "'wall','length','num_bends','bend_radius','num_boss','num_bracket','other','comp_adaptor_len',\n",
    "'comp_adaptor_wt','comp_boss_wt','comp_elbow_len','comp_elbow_thick','comp_elbow_wt','comp_float_thick',\n",
    "'comp_float_wt','comp_hfl','comp_other_wt','comp_sleeve_len','comp_sleeve_wt','comp_straight_len',\n",
    "'comp_straight_thick','comp_straight_wt','comp_tee_len','comp_tee_thick','comp_tee_wt',\n",
    "'comp_threaded_len','comp_threaded_wt'\n",
    "]]"
   ]
  },
  {
   "cell_type": "code",
   "execution_count": 37,
   "metadata": {},
   "outputs": [
    {
     "data": {
      "text/plain": [
       "31"
      ]
     },
     "execution_count": 37,
     "metadata": {},
     "output_type": "execute_result"
    }
   ],
   "source": [
    "X_train_num.shape[1]"
   ]
  },
  {
   "cell_type": "code",
   "execution_count": 38,
   "metadata": {},
   "outputs": [
    {
     "name": "stdout",
     "output_type": "stream",
     "text": [
      "[ 0.91929139  0.07420404]\n"
     ]
    }
   ],
   "source": [
    "pca=PCA(n_components=2)\n",
    "X_train_num2D=pca.fit_transform(X_train_num)\n",
    "X_train_num2D_transform = pca.fit(X_train_num)\n",
    "print(pca.explained_variance_ratio_)\n",
    "princ_comps = pd.DataFrame(X_train_num2D)\n",
    "princ_comps.columns = ('pc1','pc2')"
   ]
  },
  {
   "cell_type": "code",
   "execution_count": 39,
   "metadata": {
    "collapsed": true
   },
   "outputs": [],
   "source": [
    "df=X_train.drop(X_train_num,axis=1)\n",
    "df2 = princ_comps\n",
    "X_train=pd.concat([df.reset_index(),df2],axis=1)\n",
    "X_train=X_train.drop('index',axis=1)\n",
    "\n",
    "df=pd.DataFrame(X_test.drop(X_test_num,axis=1))\n",
    "princ_comps2 = pd.DataFrame(X_train_num2D_transform.transform(X_test_num))\n",
    "princ_comps2.columns= ('pc1','pc2')\n",
    "df2 = princ_comps2\n",
    "X_test=pd.concat([df.reset_index(),df2],axis=1)\n",
    "X_test=X_test.drop('index',axis=1)"
   ]
  },
  {
   "cell_type": "code",
   "execution_count": 40,
   "metadata": {},
   "outputs": [
    {
     "data": {
      "text/plain": [
       "(24170, 367)"
      ]
     },
     "execution_count": 40,
     "metadata": {},
     "output_type": "execute_result"
    }
   ],
   "source": [
    "X_train.shape"
   ]
  },
  {
   "cell_type": "code",
   "execution_count": 83,
   "metadata": {
    "collapsed": true
   },
   "outputs": [],
   "source": [
    "#All zeros\n",
    "all_zeros_mse = mean_squared_error(np.zeros(6043),y_test)\n",
    "\n",
    "#Linear Regression\n",
    "\n",
    "lin_reg = LinearRegression()\n",
    "lin_reg.fit(X_train,y_train)\n",
    "linear_regression_mse_train=mean_squared_error(y_train,lin_reg.predict(X_train))\n",
    "linear_regression_mse_valid=mean_squared_error(y_test,lin_reg.predict(X_test))\n",
    "\n",
    "#Support Vector Regressor\n",
    "svm_reg = SVR()\n",
    "svm_reg.fit(X_train,y_train)\n",
    "svm_mse_train=mean_squared_error(y_train,svm_reg.predict(X_train))\n",
    "svm_mse_valid=mean_squared_error(y_test,svm_reg.predict(X_test))\n",
    "\n",
    "#Random Forest Regressor\n",
    "random_forest_model = RandomForestRegressor()\n",
    "random_forest_model.fit(X_train,y_train)\n",
    "random_forest_model_mse_train = mean_squared_error(y_train,random_forest_model.predict(X_train))\n",
    "random_forest_model_mse_valid = mean_squared_error(y_test,random_forest_model.predict(X_test))\n",
    "\n",
    "#Decision Tree Regressor\n",
    "dec_tree_model = DecisionTreeRegressor()\n",
    "\n",
    "param_grid = [\n",
    " {'min_samples_split': [2,5,10], 'max_depth': [2,4,5,8],'min_samples_leaf': [1,2,4,10]}\n",
    "]\n",
    "\n",
    "grid_search = GridSearchCV(dec_tree_model, param_grid, cv=5, scoring='neg_mean_squared_error')\n",
    "\n",
    "grid_search.fit(X_train,y_train)\n",
    "\n",
    "dec_tree_model = grid_search.best_estimator_\n",
    "dec_tree_model_mse_train = mean_squared_error(y_train,dec_tree_model.predict(X_train))\n",
    "dec_tree_model_mse_valid = mean_squared_error(y_test,dec_tree_model.predict(X_test))\n",
    "\n",
    "#Neural Network Regressor (Using sklearn), One layer of 100 hidden nodes\n",
    "NN_sklearn = MLPRegressor(hidden_layer_sizes=(100))\n",
    "NN_sklearn.fit(X_train,y_train)\n",
    "NN_sklearn_mse_train = mean_squared_error(y_train.as_matrix(),NN_sklearn.predict(X_train.as_matrix()))\n",
    "NN_sklearn_mse_valid = mean_squared_error(y_test.as_matrix(),NN_sklearn.predict(X_test.as_matrix()))"
   ]
  },
  {
   "cell_type": "code",
   "execution_count": 84,
   "metadata": {},
   "outputs": [
    {
     "name": "stdout",
     "output_type": "stream",
     "text": [
      "_________________________________________________________________\n",
      "Layer (type)                 Output Shape              Param #   \n",
      "=================================================================\n",
      "dense_11 (Dense)             (None, 100)               36800     \n",
      "_________________________________________________________________\n",
      "dropout_5 (Dropout)          (None, 100)               0         \n",
      "_________________________________________________________________\n",
      "dense_12 (Dense)             (None, 75)                7575      \n",
      "_________________________________________________________________\n",
      "dropout_6 (Dropout)          (None, 75)                0         \n",
      "_________________________________________________________________\n",
      "dense_13 (Dense)             (None, 50)                3800      \n",
      "_________________________________________________________________\n",
      "dense_14 (Dense)             (None, 20)                1020      \n",
      "_________________________________________________________________\n",
      "dense_15 (Dense)             (None, 1)                 21        \n",
      "=================================================================\n",
      "Total params: 49,216\n",
      "Trainable params: 49,216\n",
      "Non-trainable params: 0\n",
      "_________________________________________________________________\n"
     ]
    }
   ],
   "source": [
    "#Neural Network Regressor (Using Keras)\n",
    "\n",
    "model=Sequential()\n",
    "model.add(Dense(100,activation='relu',input_dim=367))\n",
    "model.add(Dropout(0.10))\n",
    "model.add(Dense(75,activation='relu'))\n",
    "model.add(Dropout(0.10))\n",
    "model.add(Dense(50,activation='relu'))\n",
    "model.add(Dense(20,activation='relu'))\n",
    "model.add(Dense(1))\n",
    "model.summary()\n",
    "model.compile(loss='mean_squared_error', optimizer='rmsprop')"
   ]
  },
  {
   "cell_type": "code",
   "execution_count": 85,
   "metadata": {},
   "outputs": [
    {
     "name": "stdout",
     "output_type": "stream",
     "text": [
      "Epoch 1/10\n",
      "24170/24170 [==============================] - 5s - loss: 7.6189     \n",
      "Epoch 2/10\n",
      "24170/24170 [==============================] - 4s - loss: 3.6920     \n",
      "Epoch 3/10\n",
      "24170/24170 [==============================] - 4s - loss: 3.3977     \n",
      "Epoch 4/10\n",
      "24170/24170 [==============================] - 4s - loss: 2.3325     \n",
      "Epoch 5/10\n",
      "24170/24170 [==============================] - 4s - loss: 6.2374     \n",
      "Epoch 6/10\n",
      "24170/24170 [==============================] - 4s - loss: 4.6369     \n",
      "Epoch 7/10\n",
      "24170/24170 [==============================] - 4s - loss: 13.5120     \n",
      "Epoch 8/10\n",
      "24170/24170 [==============================] - 4s - loss: 1.8681     \n",
      "Epoch 9/10\n",
      "24170/24170 [==============================] - 4s - loss: 4.6375     \n",
      "Epoch 10/10\n",
      "24170/24170 [==============================] - 5s - loss: 37.4812     \n"
     ]
    }
   ],
   "source": [
    "X = X_train.as_matrix()\n",
    "y = y_train.as_matrix()\n",
    "model.fit(X,y,epochs=10,batch_size=10)\n",
    "NN_keras_mse = mean_squared_error(y_test.as_matrix(),model.predict(X_test.as_matrix()))"
   ]
  },
  {
   "cell_type": "code",
   "execution_count": 86,
   "metadata": {
    "scrolled": true
   },
   "outputs": [
    {
     "data": {
      "text/plain": [
       "{'All Zeros': 0.81801792970401255,\n",
       " 'Decision Tree': 0.58631124617250607,\n",
       " 'Linear Regression': 0.61547683623328242,\n",
       " 'Neural Network Keras': 0.69149231292865609,\n",
       " 'Neural Network sklearn': 0.66758317890231555,\n",
       " 'Random Forest': 0.15104158938136514}"
      ]
     },
     "execution_count": 86,
     "metadata": {},
     "output_type": "execute_result"
    }
   ],
   "source": [
    "train_mse_dict = dict({'All Zeros': (all_zeros_mse),\n",
    "               'Neural Network Keras':NN_keras_mse_train,\n",
    "               'Neural Network sklearn':NN_sklearn_mse_train,\n",
    "               'Decision Tree':dec_tree_model_mse_train,\n",
    "               'Random Forest':random_forest_model_mse_train,\n",
    "               'Linear Regression':linear_regression_mse_train\n",
    "               })\n",
    "train_mse_dict"
   ]
  },
  {
   "cell_type": "code",
   "execution_count": 87,
   "metadata": {},
   "outputs": [
    {
     "data": {
      "text/plain": [
       "{'All Zeros': 0.81801792970401255,\n",
       " 'Decision Tree': 0.47776960629182313,\n",
       " 'Linear Regression': 83329401463331.156,\n",
       " 'Neural Network Keras': 0.50986590525590825,\n",
       " 'Neural Network sklearn': 0.53545343616408581,\n",
       " 'Random Forest': 0.54991271304316591}"
      ]
     },
     "execution_count": 87,
     "metadata": {},
     "output_type": "execute_result"
    }
   ],
   "source": [
    "valid_mse_dict = dict({'All Zeros': (all_zeros_mse),\n",
    "               'Neural Network Keras':NN_keras_mse_valid,\n",
    "               'Neural Network sklearn':NN_sklearn_mse_valid,\n",
    "               'Decision Tree':dec_tree_model_mse_valid,\n",
    "               'Random Forest':random_forest_model_mse_valid,\n",
    "               'Linear Regression':linear_regression_mse_valid\n",
    "               })\n",
    "valid_mse_dict"
   ]
  },
  {
   "cell_type": "markdown",
   "metadata": {},
   "source": [
    "# Summary Of Initial Modeling\n",
    "\n",
    "Best so far: Including components, but not using principal components for continuous predictors\n",
    "\n"
   ]
  },
  {
   "cell_type": "markdown",
   "metadata": {},
   "source": [
    "# Random Forest Regressor Grid Search & Feature Importance"
   ]
  },
  {
   "cell_type": "code",
   "execution_count": 18,
   "metadata": {
    "collapsed": true
   },
   "outputs": [],
   "source": [
    "std_scaler = StandardScaler()\n",
    "train_set_num = train_set.drop(['bracket_pricing','tube_assembly_id','supplier','quote_date'],axis=1)\n",
    "bracket_pricing_ind = pd.get_dummies(train_set.bracket_pricing,drop_first=True)\n",
    "supplier_ind = pd.get_dummies(train_set.supplier)\n",
    "df=pd.DataFrame(std_scaler.fit_transform(train_set_num))\n",
    "df.columns = train_set_num.columns + '_std_scaled'\n",
    "train = pd.concat([df.reset_index(drop=True),bracket_pricing_ind,supplier_ind],axis=1)\n",
    "tube_assembly_df = pd.DataFrame(train_set.tube_assembly_id)\n",
    "train=pd.concat([tube_assembly_df,train],axis=1)\n",
    "df=pd.merge(train,tube_pre,on='tube_assembly_id')\n",
    "df=pd.merge(df,components_df_std,on='tube_assembly_id',how='left')\n",
    "train = pd.merge(df,specs_pre).drop('tube_assembly_id',axis=1)"
   ]
  },
  {
   "cell_type": "code",
   "execution_count": 19,
   "metadata": {},
   "outputs": [
    {
     "name": "stdout",
     "output_type": "stream",
     "text": [
      "Training and testing split was successful.\n"
     ]
    }
   ],
   "source": [
    "# Split training dataset into 'train' and 'test'\n",
    "\n",
    "price = train.cost_std_scaled\n",
    "features = train.drop('cost_std_scaled',axis=1)\n",
    "\n",
    "X_train, X_test, y_train, y_test = train_test_split(features, price, test_size=0.20, random_state=42)\n",
    "\n",
    "print(\"Training and testing split was successful.\")"
   ]
  },
  {
   "cell_type": "code",
   "execution_count": 21,
   "metadata": {},
   "outputs": [
    {
     "data": {
      "text/plain": [
       "0.18507715828978274"
      ]
     },
     "execution_count": 21,
     "metadata": {},
     "output_type": "execute_result"
    }
   ],
   "source": [
    "#Random Forest Regressor\n",
    "random_forest_model = RandomForestRegressor()\n",
    "random_forest_model.fit(X_train,y_train)\n",
    "random_forest_model_mse = mean_squared_error(y_test,random_forest_model.predict(X_test))\n",
    "random_forest_model_mse"
   ]
  },
  {
   "cell_type": "code",
   "execution_count": 22,
   "metadata": {},
   "outputs": [
    {
     "name": "stdout",
     "output_type": "stream",
     "text": [
      "0.145816921836\n"
     ]
    }
   ],
   "source": [
    "param_grid = [\n",
    " {'n_estimators': [5,10,15,20],'min_samples_leaf': [1,10,20],'min_samples_split':[2,4,6]},\n",
    " {'bootstrap': [False], 'n_estimators': [5,10], 'min_samples_leaf':[1,10,20]}\n",
    "]\n",
    "grid_search = GridSearchCV(random_forest_model, param_grid, cv=5, scoring='neg_mean_squared_error')\n",
    "\n",
    "grid_search.fit(X_train,y_train)\n",
    "\n",
    "random_forest_model = grid_search.best_estimator_\n",
    "random_forest_model_mse = mean_squared_error(y_test,random_forest_model.predict(X_test))\n",
    "print(random_forest_model_mse)"
   ]
  },
  {
   "cell_type": "code",
   "execution_count": 27,
   "metadata": {},
   "outputs": [
    {
     "name": "stdout",
     "output_type": "stream",
     "text": [
      "{'min_samples_leaf': 1, 'min_samples_split': 4, 'n_estimators': 10}\n"
     ]
    }
   ],
   "source": [
    "print(grid_search.best_params_)"
   ]
  },
  {
   "cell_type": "code",
   "execution_count": 28,
   "metadata": {
    "collapsed": true
   },
   "outputs": [],
   "source": [
    "#cvres = grid_search.cv_results_\n",
    "#for mean_score, params in zip(cvres[\"mean_test_score\"],cvres[\"params\"]):\n",
    "#    print(np.sqrt(-mean_score),params)"
   ]
  },
  {
   "cell_type": "code",
   "execution_count": 23,
   "metadata": {
    "collapsed": true
   },
   "outputs": [],
   "source": [
    "feature_importances = grid_search.best_estimator_.feature_importances_\n",
    "#print(feature_importances)\n",
    "attributes = list(X_train.columns)\n",
    "features_all=sorted(zip(feature_importances,attributes),reverse=True)\n",
    "#print(type(sorted(zip(feature_importances,attributes),reverse=True)))"
   ]
  },
  {
   "cell_type": "code",
   "execution_count": 24,
   "metadata": {},
   "outputs": [
    {
     "data": {
      "text/html": [
       "<div>\n",
       "<style>\n",
       "    .dataframe thead tr:only-child th {\n",
       "        text-align: right;\n",
       "    }\n",
       "\n",
       "    .dataframe thead th {\n",
       "        text-align: left;\n",
       "    }\n",
       "\n",
       "    .dataframe tbody tr th {\n",
       "        vertical-align: top;\n",
       "    }\n",
       "</style>\n",
       "<table border=\"1\" class=\"dataframe\">\n",
       "  <thead>\n",
       "    <tr style=\"text-align: right;\">\n",
       "      <th></th>\n",
       "      <th>Importance</th>\n",
       "      <th>Feature_Name</th>\n",
       "    </tr>\n",
       "  </thead>\n",
       "  <tbody>\n",
       "    <tr>\n",
       "      <th>0</th>\n",
       "      <td>0.157813</td>\n",
       "      <td>quantity_std_scaled</td>\n",
       "    </tr>\n",
       "    <tr>\n",
       "      <th>1</th>\n",
       "      <td>0.147502</td>\n",
       "      <td>diameter</td>\n",
       "    </tr>\n",
       "    <tr>\n",
       "      <th>2</th>\n",
       "      <td>0.122754</td>\n",
       "      <td>annual_usage_std_scaled</td>\n",
       "    </tr>\n",
       "    <tr>\n",
       "      <th>3</th>\n",
       "      <td>0.067480</td>\n",
       "      <td>comp_straight_len</td>\n",
       "    </tr>\n",
       "    <tr>\n",
       "      <th>4</th>\n",
       "      <td>0.055144</td>\n",
       "      <td>wall</td>\n",
       "    </tr>\n",
       "    <tr>\n",
       "      <th>5</th>\n",
       "      <td>0.055097</td>\n",
       "      <td>comp_other_wt</td>\n",
       "    </tr>\n",
       "    <tr>\n",
       "      <th>6</th>\n",
       "      <td>0.036512</td>\n",
       "      <td>length</td>\n",
       "    </tr>\n",
       "    <tr>\n",
       "      <th>7</th>\n",
       "      <td>0.030767</td>\n",
       "      <td>comp_boss_wt</td>\n",
       "    </tr>\n",
       "    <tr>\n",
       "      <th>8</th>\n",
       "      <td>0.027311</td>\n",
       "      <td>min_order_quantity_std_scaled</td>\n",
       "    </tr>\n",
       "    <tr>\n",
       "      <th>9</th>\n",
       "      <td>0.023940</td>\n",
       "      <td>S-0026</td>\n",
       "    </tr>\n",
       "    <tr>\n",
       "      <th>10</th>\n",
       "      <td>0.020905</td>\n",
       "      <td>comp_straight_thick</td>\n",
       "    </tr>\n",
       "    <tr>\n",
       "      <th>11</th>\n",
       "      <td>0.018460</td>\n",
       "      <td>end_a_EF-012</td>\n",
       "    </tr>\n",
       "    <tr>\n",
       "      <th>12</th>\n",
       "      <td>0.014174</td>\n",
       "      <td>comp_straight_wt</td>\n",
       "    </tr>\n",
       "    <tr>\n",
       "      <th>13</th>\n",
       "      <td>0.013097</td>\n",
       "      <td>comp_elbow_wt</td>\n",
       "    </tr>\n",
       "    <tr>\n",
       "      <th>14</th>\n",
       "      <td>0.012913</td>\n",
       "      <td>bend_radius</td>\n",
       "    </tr>\n",
       "    <tr>\n",
       "      <th>15</th>\n",
       "      <td>0.012743</td>\n",
       "      <td>num_boss</td>\n",
       "    </tr>\n",
       "    <tr>\n",
       "      <th>16</th>\n",
       "      <td>0.012561</td>\n",
       "      <td>comp_elbow_thick</td>\n",
       "    </tr>\n",
       "    <tr>\n",
       "      <th>17</th>\n",
       "      <td>0.012225</td>\n",
       "      <td>S-0066</td>\n",
       "    </tr>\n",
       "    <tr>\n",
       "      <th>18</th>\n",
       "      <td>0.012180</td>\n",
       "      <td>num_bends</td>\n",
       "    </tr>\n",
       "    <tr>\n",
       "      <th>19</th>\n",
       "      <td>0.011920</td>\n",
       "      <td>comp_threaded_wt</td>\n",
       "    </tr>\n",
       "    <tr>\n",
       "      <th>20</th>\n",
       "      <td>0.009115</td>\n",
       "      <td>end_a_EF-021</td>\n",
       "    </tr>\n",
       "    <tr>\n",
       "      <th>21</th>\n",
       "      <td>0.007800</td>\n",
       "      <td>end_x_EF-021</td>\n",
       "    </tr>\n",
       "    <tr>\n",
       "      <th>22</th>\n",
       "      <td>0.006636</td>\n",
       "      <td>S-0064</td>\n",
       "    </tr>\n",
       "    <tr>\n",
       "      <th>23</th>\n",
       "      <td>0.006236</td>\n",
       "      <td>end_a_2x_Y</td>\n",
       "    </tr>\n",
       "    <tr>\n",
       "      <th>24</th>\n",
       "      <td>0.006100</td>\n",
       "      <td>end_x_2x_Y</td>\n",
       "    </tr>\n",
       "    <tr>\n",
       "      <th>25</th>\n",
       "      <td>0.005451</td>\n",
       "      <td>end_x_1x_Y</td>\n",
       "    </tr>\n",
       "    <tr>\n",
       "      <th>26</th>\n",
       "      <td>0.005397</td>\n",
       "      <td>spec2_SP-0058</td>\n",
       "    </tr>\n",
       "    <tr>\n",
       "      <th>27</th>\n",
       "      <td>0.005074</td>\n",
       "      <td>end_x_EF-012</td>\n",
       "    </tr>\n",
       "    <tr>\n",
       "      <th>28</th>\n",
       "      <td>0.004096</td>\n",
       "      <td>spec1_SP-0012</td>\n",
       "    </tr>\n",
       "    <tr>\n",
       "      <th>29</th>\n",
       "      <td>0.003713</td>\n",
       "      <td>end_a_EF-023</td>\n",
       "    </tr>\n",
       "    <tr>\n",
       "      <th>30</th>\n",
       "      <td>0.003346</td>\n",
       "      <td>spec3_SP-0050</td>\n",
       "    </tr>\n",
       "    <tr>\n",
       "      <th>31</th>\n",
       "      <td>0.003166</td>\n",
       "      <td>other</td>\n",
       "    </tr>\n",
       "    <tr>\n",
       "      <th>32</th>\n",
       "      <td>0.002962</td>\n",
       "      <td>Yes</td>\n",
       "    </tr>\n",
       "    <tr>\n",
       "      <th>33</th>\n",
       "      <td>0.002860</td>\n",
       "      <td>end_x_EF-023</td>\n",
       "    </tr>\n",
       "    <tr>\n",
       "      <th>34</th>\n",
       "      <td>0.002327</td>\n",
       "      <td>comp_sleeve_wt</td>\n",
       "    </tr>\n",
       "    <tr>\n",
       "      <th>35</th>\n",
       "      <td>0.002274</td>\n",
       "      <td>end_a_EF-009</td>\n",
       "    </tr>\n",
       "    <tr>\n",
       "      <th>36</th>\n",
       "      <td>0.002023</td>\n",
       "      <td>end_a_1x_Y</td>\n",
       "    </tr>\n",
       "    <tr>\n",
       "      <th>37</th>\n",
       "      <td>0.001993</td>\n",
       "      <td>end_a_NONE</td>\n",
       "    </tr>\n",
       "    <tr>\n",
       "      <th>38</th>\n",
       "      <td>0.001921</td>\n",
       "      <td>spec2_SP-0026</td>\n",
       "    </tr>\n",
       "    <tr>\n",
       "      <th>39</th>\n",
       "      <td>0.001871</td>\n",
       "      <td>end_x_EF-009</td>\n",
       "    </tr>\n",
       "    <tr>\n",
       "      <th>40</th>\n",
       "      <td>0.001761</td>\n",
       "      <td>S-0054</td>\n",
       "    </tr>\n",
       "    <tr>\n",
       "      <th>41</th>\n",
       "      <td>0.001753</td>\n",
       "      <td>comp_elbow_len</td>\n",
       "    </tr>\n",
       "    <tr>\n",
       "      <th>42</th>\n",
       "      <td>0.001734</td>\n",
       "      <td>spec1_SP-0024</td>\n",
       "    </tr>\n",
       "    <tr>\n",
       "      <th>43</th>\n",
       "      <td>0.001679</td>\n",
       "      <td>comp_float_wt</td>\n",
       "    </tr>\n",
       "    <tr>\n",
       "      <th>44</th>\n",
       "      <td>0.001644</td>\n",
       "      <td>comp_threaded_len</td>\n",
       "    </tr>\n",
       "    <tr>\n",
       "      <th>45</th>\n",
       "      <td>0.001643</td>\n",
       "      <td>spec6_SP-0080</td>\n",
       "    </tr>\n",
       "    <tr>\n",
       "      <th>46</th>\n",
       "      <td>0.001499</td>\n",
       "      <td>spec2_SP-0065</td>\n",
       "    </tr>\n",
       "    <tr>\n",
       "      <th>47</th>\n",
       "      <td>0.001401</td>\n",
       "      <td>end_x_EF-017</td>\n",
       "    </tr>\n",
       "    <tr>\n",
       "      <th>48</th>\n",
       "      <td>0.001292</td>\n",
       "      <td>spec4_SP-0051</td>\n",
       "    </tr>\n",
       "    <tr>\n",
       "      <th>49</th>\n",
       "      <td>0.001281</td>\n",
       "      <td>spec1_SP-0007</td>\n",
       "    </tr>\n",
       "    <tr>\n",
       "      <th>50</th>\n",
       "      <td>0.001248</td>\n",
       "      <td>S-0041</td>\n",
       "    </tr>\n",
       "    <tr>\n",
       "      <th>51</th>\n",
       "      <td>0.001201</td>\n",
       "      <td>end_a_EF-003</td>\n",
       "    </tr>\n",
       "    <tr>\n",
       "      <th>52</th>\n",
       "      <td>0.001189</td>\n",
       "      <td>end_x_NONE</td>\n",
       "    </tr>\n",
       "    <tr>\n",
       "      <th>53</th>\n",
       "      <td>0.001164</td>\n",
       "      <td>comp_float_thick</td>\n",
       "    </tr>\n",
       "    <tr>\n",
       "      <th>54</th>\n",
       "      <td>0.001158</td>\n",
       "      <td>spec5_SP-0052</td>\n",
       "    </tr>\n",
       "    <tr>\n",
       "      <th>55</th>\n",
       "      <td>0.001098</td>\n",
       "      <td>end_x_EF-003</td>\n",
       "    </tr>\n",
       "    <tr>\n",
       "      <th>56</th>\n",
       "      <td>0.001047</td>\n",
       "      <td>S-0058</td>\n",
       "    </tr>\n",
       "    <tr>\n",
       "      <th>57</th>\n",
       "      <td>0.001037</td>\n",
       "      <td>S-0106</td>\n",
       "    </tr>\n",
       "    <tr>\n",
       "      <th>58</th>\n",
       "      <td>0.001015</td>\n",
       "      <td>spec2_SP-0022</td>\n",
       "    </tr>\n",
       "    <tr>\n",
       "      <th>59</th>\n",
       "      <td>0.001015</td>\n",
       "      <td>spec5_SP-0063</td>\n",
       "    </tr>\n",
       "  </tbody>\n",
       "</table>\n",
       "</div>"
      ],
      "text/plain": [
       "    Importance                   Feature_Name\n",
       "0     0.157813            quantity_std_scaled\n",
       "1     0.147502                       diameter\n",
       "2     0.122754        annual_usage_std_scaled\n",
       "3     0.067480              comp_straight_len\n",
       "4     0.055144                           wall\n",
       "5     0.055097                  comp_other_wt\n",
       "6     0.036512                         length\n",
       "7     0.030767                   comp_boss_wt\n",
       "8     0.027311  min_order_quantity_std_scaled\n",
       "9     0.023940                         S-0026\n",
       "10    0.020905            comp_straight_thick\n",
       "11    0.018460                   end_a_EF-012\n",
       "12    0.014174               comp_straight_wt\n",
       "13    0.013097                  comp_elbow_wt\n",
       "14    0.012913                    bend_radius\n",
       "15    0.012743                       num_boss\n",
       "16    0.012561               comp_elbow_thick\n",
       "17    0.012225                         S-0066\n",
       "18    0.012180                      num_bends\n",
       "19    0.011920               comp_threaded_wt\n",
       "20    0.009115                   end_a_EF-021\n",
       "21    0.007800                   end_x_EF-021\n",
       "22    0.006636                         S-0064\n",
       "23    0.006236                     end_a_2x_Y\n",
       "24    0.006100                     end_x_2x_Y\n",
       "25    0.005451                     end_x_1x_Y\n",
       "26    0.005397                  spec2_SP-0058\n",
       "27    0.005074                   end_x_EF-012\n",
       "28    0.004096                  spec1_SP-0012\n",
       "29    0.003713                   end_a_EF-023\n",
       "30    0.003346                  spec3_SP-0050\n",
       "31    0.003166                          other\n",
       "32    0.002962                            Yes\n",
       "33    0.002860                   end_x_EF-023\n",
       "34    0.002327                 comp_sleeve_wt\n",
       "35    0.002274                   end_a_EF-009\n",
       "36    0.002023                     end_a_1x_Y\n",
       "37    0.001993                     end_a_NONE\n",
       "38    0.001921                  spec2_SP-0026\n",
       "39    0.001871                   end_x_EF-009\n",
       "40    0.001761                         S-0054\n",
       "41    0.001753                 comp_elbow_len\n",
       "42    0.001734                  spec1_SP-0024\n",
       "43    0.001679                  comp_float_wt\n",
       "44    0.001644              comp_threaded_len\n",
       "45    0.001643                  spec6_SP-0080\n",
       "46    0.001499                  spec2_SP-0065\n",
       "47    0.001401                   end_x_EF-017\n",
       "48    0.001292                  spec4_SP-0051\n",
       "49    0.001281                  spec1_SP-0007\n",
       "50    0.001248                         S-0041\n",
       "51    0.001201                   end_a_EF-003\n",
       "52    0.001189                     end_x_NONE\n",
       "53    0.001164               comp_float_thick\n",
       "54    0.001158                  spec5_SP-0052\n",
       "55    0.001098                   end_x_EF-003\n",
       "56    0.001047                         S-0058\n",
       "57    0.001037                         S-0106\n",
       "58    0.001015                  spec2_SP-0022\n",
       "59    0.001015                  spec5_SP-0063"
      ]
     },
     "execution_count": 24,
     "metadata": {},
     "output_type": "execute_result"
    }
   ],
   "source": [
    "df=pd.DataFrame(features_all)\n",
    "df.columns = ('Importance','Feature_Name')\n",
    "df[df['Importance']>0.001]"
   ]
  },
  {
   "cell_type": "code",
   "execution_count": 143,
   "metadata": {},
   "outputs": [
    {
     "data": {
      "image/png": "[encoded data removed]",
      "text/plain": [
       "<matplotlib.figure.Figure at 0x1338552cd30>"
      ]
     },
     "metadata": {},
     "output_type": "display_data"
    }
   ],
   "source": [
    "x=np.arange(len(df['Feature_Name']))\n",
    "y=np.array(df['Importance'])\n",
    "plt.title('Feature Importance - All Features')\n",
    "plt.xlabel('Index')\n",
    "plt.ylabel('Importance')\n",
    "plt.bar(x,y)\n",
    "plt.show()"
   ]
  },
  {
   "cell_type": "code",
   "execution_count": 135,
   "metadata": {},
   "outputs": [
    {
     "data": {
      "image/png": "[encoded data removed]",
      "text/plain": [
       "<matplotlib.figure.Figure at 0x133c3801ac8>"
      ]
     },
     "metadata": {},
     "output_type": "display_data"
    }
   ],
   "source": [
    "df=df[df['Importance']>0.001]\n",
    "x=np.arange(len(df['Feature_Name']))\n",
    "y=np.array(df['Importance'])\n",
    "plt.title('Feature Importance - Top 58')\n",
    "plt.xlabel('Index')\n",
    "plt.ylabel('Importance')\n",
    "plt.bar(x,y)\n",
    "plt.show()"
   ]
  },
  {
   "cell_type": "code",
   "execution_count": 116,
   "metadata": {
    "collapsed": true
   },
   "outputs": [],
   "source": [
    "# For output to put onto Kaggle website for scoring:\n",
    "\n",
    "my_df = pd.DataFrame(sorted(zip(feature_importances,attributes),reverse=True))\n",
    "my_df.to_csv('features.csv', index=False, header=False)"
   ]
  },
  {
   "cell_type": "code",
   "execution_count": 25,
   "metadata": {
    "collapsed": true
   },
   "outputs": [],
   "source": [
    "best_attributes = sorted(zip(feature_importances,attributes),reverse=True)\n",
    "best_attributes_30 = (dict(best_attributes[:58])).values()\n",
    "X_train=X_train[list(best_attributes_30)]\n",
    "X_test=X_test[list(best_attributes_30)]"
   ]
  },
  {
   "cell_type": "code",
   "execution_count": 32,
   "metadata": {},
   "outputs": [
    {
     "data": {
      "text/plain": [
       "0.17552726903769175"
      ]
     },
     "execution_count": 32,
     "metadata": {},
     "output_type": "execute_result"
    }
   ],
   "source": [
    "#Random Forest Regressor\n",
    "random_forest_model = RandomForestRegressor()\n",
    "random_forest_model.fit(X_train,y_train)\n",
    "random_forest_model_mse = mean_squared_error(y_test,random_forest_model.predict(X_test))\n",
    "random_forest_model_mse"
   ]
  },
  {
   "cell_type": "code",
   "execution_count": 33,
   "metadata": {},
   "outputs": [
    {
     "data": {
      "text/plain": [
       "RandomForestRegressor(bootstrap=True, criterion='mse', max_depth=None,\n",
       "           max_features='auto', max_leaf_nodes=None,\n",
       "           min_impurity_split=1e-07, min_samples_leaf=1,\n",
       "           min_samples_split=2, min_weight_fraction_leaf=0.0,\n",
       "           n_estimators=10, n_jobs=1, oob_score=False, random_state=None,\n",
       "           verbose=0, warm_start=False)"
      ]
     },
     "execution_count": 33,
     "metadata": {},
     "output_type": "execute_result"
    }
   ],
   "source": [
    "random_forest_model"
   ]
  },
  {
   "cell_type": "code",
   "execution_count": 26,
   "metadata": {},
   "outputs": [
    {
     "data": {
      "text/plain": [
       "0.17957293021919044"
      ]
     },
     "execution_count": 26,
     "metadata": {},
     "output_type": "execute_result"
    }
   ],
   "source": [
    "param_grid = [\n",
    " {'n_estimators': [5,10,15,20],'min_samples_leaf': [1,10,20],'min_samples_split':[2,4,6]},\n",
    " {'bootstrap': [False], 'n_estimators': [5,10], 'min_samples_leaf':[1,10,20]}\n",
    "]\n",
    "grid_search = GridSearchCV(random_forest_model, param_grid, cv=5, scoring='neg_mean_squared_error')\n",
    "\n",
    "grid_search.fit(X_train,y_train)\n",
    "\n",
    "random_forest_model = grid_search.best_estimator_\n",
    "random_forest_model_mse = mean_squared_error(y_test,random_forest_model.predict(X_test))\n",
    "random_forest_model_mse"
   ]
  },
  {
   "cell_type": "code",
   "execution_count": 27,
   "metadata": {},
   "outputs": [
    {
     "name": "stdout",
     "output_type": "stream",
     "text": [
      "{'min_samples_leaf': 1, 'min_samples_split': 4, 'n_estimators': 15}\n"
     ]
    }
   ],
   "source": [
    "print(grid_search.best_params_)"
   ]
  },
  {
   "cell_type": "code",
   "execution_count": 28,
   "metadata": {},
   "outputs": [
    {
     "data": {
      "text/plain": [
       "{'Random Forest': 0.2731780881523333}"
      ]
     },
     "execution_count": 28,
     "metadata": {},
     "output_type": "execute_result"
    }
   ],
   "source": [
    "mean_ = train_set.cost.mean()\n",
    "std_ = train_set.cost.std()\n",
    "\n",
    "\n",
    "random_forest_rmsle=rmsle(\n",
    "    std_scaler_inverse(random_forest_model.predict(X_test),mean_,std_),\n",
    "    std_scaler_inverse(y_test,mean_,std_)\n",
    ")\n",
    "\n",
    "\n",
    "rmsle_dict = dict({'Random Forest':random_forest_rmsle})\n",
    "rmsle_dict"
   ]
  },
  {
   "cell_type": "code",
   "execution_count": 49,
   "metadata": {},
   "outputs": [
    {
     "name": "stdout",
     "output_type": "stream",
     "text": [
      "Training and testing split was successful.\n"
     ]
    },
    {
     "data": {
      "text/plain": [
       "{'Random Forest': 0.2731780881523333}"
      ]
     },
     "execution_count": 49,
     "metadata": {},
     "output_type": "execute_result"
    }
   ],
   "source": [
    "# Split training dataset into 'train' and 'test'\n",
    "\n",
    "price = train.cost_std_scaled\n",
    "features = train.drop('cost_std_scaled',axis=1)\n",
    "\n",
    "X_train, X_test, y_train, y_test = train_test_split(features, price, test_size=0.20, random_state=42)\n",
    "\n",
    "print(\"Training and testing split was successful.\")\n",
    "\n",
    "best_attributes = sorted(zip(feature_importances,attributes),reverse=True)\n",
    "best_attributes_30 = (dict(best_attributes[:58])).values()\n",
    "X_train=X_train[list(best_attributes_30)]\n",
    "X_test=X_test[list(best_attributes_30)]\n",
    "mean_ = train_set.cost.mean()\n",
    "std_ = train_set.cost.std()\n",
    "\n",
    "\n",
    "random_forest_rmsle=rmsle(\n",
    "    std_scaler_inverse(random_forest_model.predict(X_test),mean_,std_),\n",
    "    std_scaler_inverse(y_test,mean_,std_)\n",
    ")\n",
    "\n",
    "\n",
    "rmsle_dict = dict({'Random Forest':random_forest_rmsle})\n",
    "rmsle_dict"
   ]
  },
  {
   "cell_type": "code",
   "execution_count": 43,
   "metadata": {},
   "outputs": [
    {
     "name": "stdout",
     "output_type": "stream",
     "text": [
      "Training and testing split was successful.\n"
     ]
    },
    {
     "data": {
      "text/plain": [
       "{'Random Forest': 0.17740278065527737}"
      ]
     },
     "execution_count": 43,
     "metadata": {},
     "output_type": "execute_result"
    }
   ],
   "source": [
    "# Split training dataset into 'train' and 'test'\n",
    "\n",
    "price = train.cost_std_scaled\n",
    "features = train.drop('cost_std_scaled',axis=1)\n",
    "\n",
    "X_train, X_test, y_train, y_test = train_test_split(features, price, test_size=0.20, random_state=43)\n",
    "\n",
    "print(\"Training and testing split was successful.\")\n",
    "\n",
    "best_attributes = sorted(zip(feature_importances,attributes),reverse=True)\n",
    "best_attributes_30 = (dict(best_attributes[:58])).values()\n",
    "X_train=X_train[list(best_attributes_30)]\n",
    "X_test=X_test[list(best_attributes_30)]\n",
    "mean_ = train_set.cost.mean()\n",
    "std_ = train_set.cost.std()\n",
    "\n",
    "\n",
    "random_forest_rmsle=rmsle(\n",
    "    std_scaler_inverse(random_forest_model.predict(X_test),mean_,std_),\n",
    "    std_scaler_inverse(y_test,mean_,std_)\n",
    ")\n",
    "\n",
    "\n",
    "rmsle_dict = dict({'Random Forest':random_forest_rmsle})\n",
    "rmsle_dict"
   ]
  },
  {
   "cell_type": "code",
   "execution_count": 44,
   "metadata": {},
   "outputs": [
    {
     "name": "stdout",
     "output_type": "stream",
     "text": [
      "Training and testing split was successful.\n"
     ]
    },
    {
     "data": {
      "text/plain": [
       "{'Random Forest': 0.17115780959245824}"
      ]
     },
     "execution_count": 44,
     "metadata": {},
     "output_type": "execute_result"
    }
   ],
   "source": [
    "# Split training dataset into 'train' and 'test'\n",
    "\n",
    "price = train.cost_std_scaled\n",
    "features = train.drop('cost_std_scaled',axis=1)\n",
    "\n",
    "X_train, X_test, y_train, y_test = train_test_split(features, price, test_size=0.20, random_state=44)\n",
    "\n",
    "print(\"Training and testing split was successful.\")\n",
    "\n",
    "best_attributes = sorted(zip(feature_importances,attributes),reverse=True)\n",
    "best_attributes_30 = (dict(best_attributes[:58])).values()\n",
    "X_train=X_train[list(best_attributes_30)]\n",
    "X_test=X_test[list(best_attributes_30)]\n",
    "mean_ = train_set.cost.mean()\n",
    "std_ = train_set.cost.std()\n",
    "\n",
    "\n",
    "random_forest_rmsle=rmsle(\n",
    "    std_scaler_inverse(random_forest_model.predict(X_test),mean_,std_),\n",
    "    std_scaler_inverse(y_test,mean_,std_)\n",
    ")\n",
    "\n",
    "\n",
    "rmsle_dict = dict({'Random Forest':random_forest_rmsle})\n",
    "rmsle_dict"
   ]
  },
  {
   "cell_type": "code",
   "execution_count": 47,
   "metadata": {},
   "outputs": [
    {
     "name": "stdout",
     "output_type": "stream",
     "text": [
      "Training and testing split was successful.\n"
     ]
    },
    {
     "data": {
      "text/plain": [
       "{'Random Forest': 0.1825118638226553}"
      ]
     },
     "execution_count": 47,
     "metadata": {},
     "output_type": "execute_result"
    }
   ],
   "source": [
    "# Split training dataset into 'train' and 'test'\n",
    "\n",
    "price = train.cost_std_scaled\n",
    "features = train.drop('cost_std_scaled',axis=1)\n",
    "\n",
    "X_train, X_test, y_train, y_test = train_test_split(features, price, test_size=0.10, random_state=66)\n",
    "\n",
    "print(\"Training and testing split was successful.\")\n",
    "\n",
    "best_attributes = sorted(zip(feature_importances,attributes),reverse=True)\n",
    "best_attributes_30 = (dict(best_attributes[:58])).values()\n",
    "X_train=X_train[list(best_attributes_30)]\n",
    "X_test=X_test[list(best_attributes_30)]\n",
    "\n",
    "mean_ = train_set.cost.mean()\n",
    "std_ = train_set.cost.std()\n",
    "\n",
    "\n",
    "random_forest_rmsle=rmsle(\n",
    "    std_scaler_inverse(random_forest_model.predict(X_test),mean_,std_),\n",
    "    std_scaler_inverse(y_test,mean_,std_)\n",
    ")\n",
    "\n",
    "\n",
    "rmsle_dict = dict({'Random Forest':random_forest_rmsle})\n",
    "rmsle_dict"
   ]
  },
  {
   "cell_type": "code",
   "execution_count": 99,
   "metadata": {
    "collapsed": true
   },
   "outputs": [],
   "source": [
    "std_scaler = StandardScaler()\n",
    "test_set_num = test_set.drop(['bracket_pricing','tube_assembly_id','supplier','quote_date'],axis=1)\n",
    "bracket_pricing_ind = pd.get_dummies(test_set.bracket_pricing,drop_first=True)\n",
    "supplier_ind = pd.get_dummies(test_set.supplier)\n",
    "df=pd.DataFrame(std_scaler.fit_transform(test_set_num))\n",
    "df.columns = test_set_num.columns + '_std_scaled'\n",
    "test = pd.concat([df.reset_index(drop=True),bracket_pricing_ind,supplier_ind],axis=1)\n",
    "tube_assembly_df = pd.DataFrame(test_set.tube_assembly_id)\n",
    "test=pd.concat([tube_assembly_df,test],axis=1)\n",
    "df=pd.merge(test,tube_pre,on='tube_assembly_id')\n",
    "df=pd.merge(df,components_df_std,on='tube_assembly_id',how='left')\n",
    "test = pd.merge(df,specs_pre).drop('tube_assembly_id',axis=1)\n",
    "test = test[list(best_attributes_30)]"
   ]
  },
  {
   "cell_type": "code",
   "execution_count": 100,
   "metadata": {
    "collapsed": true
   },
   "outputs": [],
   "source": [
    "# For output to put onto Kaggle website for scoring:\n",
    "\n",
    "predictions=std_scaler_inverse(random_forest_model.predict(test),mean_,std_)\n",
    "my_df = pd.DataFrame(predictions)\n",
    "my_df.to_csv('whorton_predictions4.csv', index=False, header=False)"
   ]
  },
  {
   "cell_type": "code",
   "execution_count": null,
   "metadata": {
    "collapsed": true
   },
   "outputs": [],
   "source": []
  },
  {
   "cell_type": "code",
   "execution_count": null,
   "metadata": {
    "collapsed": true
   },
   "outputs": [],
   "source": []
  },
  {
   "cell_type": "markdown",
   "metadata": {},
   "source": [
    "# Graphing the improvements"
   ]
  },
  {
   "cell_type": "code",
   "execution_count": 101,
   "metadata": {
    "collapsed": true
   },
   "outputs": [],
   "source": [
    "modeling_dict = {'Baseline':2.35,'RF 1':0.911177,'RF 2':0.846427,'RF 3':0.796455,'RF 4':0.578730}\n",
    "objects = modeling_dict.keys()\n",
    "y_pos = np.arange(len(objects))\n",
    "performance = modeling_dict.values()"
   ]
  },
  {
   "cell_type": "code",
   "execution_count": 102,
   "metadata": {},
   "outputs": [
    {
     "data": {
      "image/png": "[encoded data removed]",
      "text/plain": [
       "<matplotlib.figure.Figure at 0x133c09ffeb8>"
      ]
     },
     "metadata": {},
     "output_type": "display_data"
    }
   ],
   "source": [
    "plt.bar(y_pos, performance, align='center', alpha=1,color='green')\n",
    "plt.xticks(y_pos, objects)\n",
    "plt.ylabel('RMSLE')\n",
    "plt.xlabel('Submission')\n",
    "plt.title('Scoreboard RMSLE Scores')\n",
    "plt.show()"
   ]
  },
  {
   "cell_type": "code",
   "execution_count": 56,
   "metadata": {},
   "outputs": [],
   "source": [
    "predictions = np.array(random_forest_model.predict(X_test))\n",
    "actuals = np.array(y_test)"
   ]
  },
  {
   "cell_type": "code",
   "execution_count": 63,
   "metadata": {},
   "outputs": [
    {
     "data": {
      "image/png": "[encoded data removed]",
      "text/plain": [
       "<matplotlib.figure.Figure at 0x265828814a8>"
      ]
     },
     "metadata": {},
     "output_type": "display_data"
    }
   ],
   "source": [
    "plt.scatter(predictions,actuals)\n",
    "plt.ylabel('Actual Price')\n",
    "plt.xlabel('Predicted Price')\n",
    "plt.title('Actual Versus Predicted Price')\n",
    "plt.show()"
   ]
  },
  {
   "cell_type": "code",
   "execution_count": 75,
   "metadata": {},
   "outputs": [
    {
     "data": {
      "image/png": "[encoded data removed]",
      "text/plain": [
       "<matplotlib.figure.Figure at 0x26583676780>"
      ]
     },
     "metadata": {},
     "output_type": "display_data"
    }
   ],
   "source": [
    "plt.plot(actuals,'ro',alpha=0.25)\n",
    "plt.plot(predictions,linewidth=0.5,alpha=1)\n",
    "plt.xlabel('Validation Dataset Index')\n",
    "plt.ylabel('Price')\n",
    "plt.title('Red = Actual, Blue = Predicted')\n",
    "plt.show()"
   ]
  },
  {
   "cell_type": "code",
   "execution_count": null,
   "metadata": {
    "collapsed": true
   },
   "outputs": [],
   "source": []
  },
  {
   "cell_type": "markdown",
   "metadata": {
    "collapsed": true
   },
   "source": [
    "# Ensemble Learning"
   ]
  },
  {
   "cell_type": "code",
   "execution_count": 103,
   "metadata": {
    "collapsed": true
   },
   "outputs": [],
   "source": [
    "std_scaler = StandardScaler()\n",
    "train_set_num = train_set.drop(['bracket_pricing','tube_assembly_id','supplier','quote_date'],axis=1)\n",
    "bracket_pricing_ind = pd.get_dummies(train_set.bracket_pricing,drop_first=True)\n",
    "supplier_ind = pd.get_dummies(train_set.supplier)\n",
    "df=pd.DataFrame(std_scaler.fit_transform(train_set_num))\n",
    "df.columns = train_set_num.columns + '_std_scaled'\n",
    "train = pd.concat([df.reset_index(drop=True),bracket_pricing_ind,supplier_ind],axis=1)\n",
    "tube_assembly_df = pd.DataFrame(train_set.tube_assembly_id)\n",
    "train=pd.concat([tube_assembly_df,train],axis=1)\n",
    "df=pd.merge(train,tube_pre,on='tube_assembly_id')\n",
    "df=pd.merge(df,components_df_std,on='tube_assembly_id',how='left')\n",
    "train = pd.merge(df,specs_pre).drop('tube_assembly_id',axis=1)"
   ]
  },
  {
   "cell_type": "code",
   "execution_count": 104,
   "metadata": {},
   "outputs": [
    {
     "name": "stdout",
     "output_type": "stream",
     "text": [
      "Training and testing split was successful.\n"
     ]
    }
   ],
   "source": [
    "# Split training dataset into 'train' and 'test'\n",
    "\n",
    "price = train.cost_std_scaled\n",
    "features = train.drop('cost_std_scaled',axis=1)\n",
    "\n",
    "X_train, X_test, y_train, y_test = train_test_split(features, price, test_size=0.20, random_state=42)\n",
    "\n",
    "print(\"Training and testing split was successful.\")"
   ]
  },
  {
   "cell_type": "code",
   "execution_count": 105,
   "metadata": {
    "collapsed": true
   },
   "outputs": [],
   "source": [
    "std_scaler = StandardScaler()\n",
    "test_set_num = test_set.drop(['bracket_pricing','tube_assembly_id','supplier','quote_date'],axis=1)\n",
    "bracket_pricing_ind = pd.get_dummies(test_set.bracket_pricing,drop_first=True)\n",
    "supplier_ind = pd.get_dummies(test_set.supplier)\n",
    "df=pd.DataFrame(std_scaler.fit_transform(test_set_num))\n",
    "df.columns = test_set_num.columns + '_std_scaled'\n",
    "test = pd.concat([df.reset_index(drop=True),bracket_pricing_ind,supplier_ind],axis=1)\n",
    "tube_assembly_df = pd.DataFrame(test_set.tube_assembly_id)\n",
    "test=pd.concat([tube_assembly_df,test],axis=1)\n",
    "df=pd.merge(test,tube_pre,on='tube_assembly_id')\n",
    "df=pd.merge(df,components_df_std,on='tube_assembly_id',how='left')\n",
    "test = pd.merge(df,specs_pre).drop('tube_assembly_id',axis=1)"
   ]
  },
  {
   "cell_type": "code",
   "execution_count": 106,
   "metadata": {},
   "outputs": [
    {
     "data": {
      "text/plain": [
       "6.9558498922906367"
      ]
     },
     "execution_count": 106,
     "metadata": {},
     "output_type": "execute_result"
    }
   ],
   "source": [
    "ada_reg = AdaBoostRegressor(DecisionTreeRegressor(max_depth=5),n_estimators=300,learning_rate=1)\n",
    "ada_reg.fit(X_train,y_train)\n",
    "mean_squared_error(ada_reg.predict(X_test),y_test)"
   ]
  },
  {
   "cell_type": "code",
   "execution_count": 107,
   "metadata": {
    "collapsed": true
   },
   "outputs": [],
   "source": [
    "# For output to put onto Kaggle website for scoring:\n",
    "\n",
    "predictions=std_scaler_inverse(ada_reg.predict(test),mean_,std_)\n",
    "my_df = pd.DataFrame(predictions)\n",
    "my_df.to_csv('whorton_predictions5.csv', index=False, header=False)"
   ]
  },
  {
   "cell_type": "code",
   "execution_count": 108,
   "metadata": {},
   "outputs": [
    {
     "data": {
      "text/plain": [
       "0.33366821211975167"
      ]
     },
     "execution_count": 108,
     "metadata": {},
     "output_type": "execute_result"
    }
   ],
   "source": [
    "gbrt = GradientBoostingRegressor(max_depth=100,n_estimators=100,learning_rate=0.1)\n",
    "gbrt.fit(X_train,y_train)\n",
    "mean_squared_error(gbrt.predict(X_test),y_test)"
   ]
  },
  {
   "cell_type": "code",
   "execution_count": 109,
   "metadata": {},
   "outputs": [
    {
     "data": {
      "text/plain": [
       "0.28891665452050952"
      ]
     },
     "execution_count": 109,
     "metadata": {},
     "output_type": "execute_result"
    }
   ],
   "source": [
    "gbrt = GradientBoostingRegressor(max_depth=100,n_estimators=120)\n",
    "gbrt.fit(X_train,y_train)\n",
    "errors=[mean_squared_error(y_test, y_pred) for y_pred in gbrt.staged_predict(X_test)]\n",
    "bst_n_estimators=np.argmin(errors)\n",
    "gbrt_best = GradientBoostingRegressor(max_depth=100,n_estimators=bst_n_estimators)\n",
    "gbrt_best.fit(X_train,y_train)\n",
    "mean_squared_error(gbrt_best.predict(X_test),y_test)"
   ]
  },
  {
   "cell_type": "code",
   "execution_count": 110,
   "metadata": {},
   "outputs": [
    {
     "data": {
      "text/plain": [
       "0.27254253483114171"
      ]
     },
     "execution_count": 110,
     "metadata": {},
     "output_type": "execute_result"
    }
   ],
   "source": [
    "gbrt = GradientBoostingRegressor(max_depth=20,n_estimators=120)\n",
    "gbrt.fit(X_train,y_train)\n",
    "errors=[mean_squared_error(y_test, y_pred) for y_pred in gbrt.staged_predict(X_test)]\n",
    "bst_n_estimators=np.argmin(errors)\n",
    "gbrt_best = GradientBoostingRegressor(max_depth=20,n_estimators=bst_n_estimators)\n",
    "gbrt_best.fit(X_train,y_train)\n",
    "mean_squared_error(gbrt_best.predict(X_test),y_test)"
   ]
  },
  {
   "cell_type": "markdown",
   "metadata": {
    "collapsed": true
   },
   "source": [
    "# References\n",
    "\n",
    "Geron, Aurelien.  \"Hands-On Machine Learning with SciKit-Learn & Tensorflow\"  Chapter 7 pages 181 - 203"
   ]
  },
  {
   "cell_type": "code",
   "execution_count": null,
   "metadata": {
    "collapsed": true
   },
   "outputs": [],
   "source": []
  }
 ],
 "metadata": {
  "kernelspec": {
   "display_name": "Python 3",
   "language": "python",
   "name": "python3"
  },
  "language_info": {
   "codemirror_mode": {
    "name": "ipython",
    "version": 3
   },
   "file_extension": ".py",
   "mimetype": "text/x-python",
   "name": "python",
   "nbconvert_exporter": "python",
   "pygments_lexer": "ipython3",
   "version": "3.6.1"
  }
 },
 "nbformat": 4,
 "nbformat_minor": 2
}
